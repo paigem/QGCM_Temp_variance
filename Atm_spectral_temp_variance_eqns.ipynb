{
 "cells": [
  {
   "cell_type": "markdown",
   "metadata": {},
   "source": [
    "# Derivation of atmosphere spectral temperature variance equation\n",
    "\n",
    "## Atm. mixed layer temperature evolution equation"
   ]
  },
  {
   "cell_type": "markdown",
   "metadata": {},
   "source": [
    "$$\n",
    "T_{mt} =\n",
    "- \\underbrace{\\left( u_m T_m \\right)_x + \\left( v_m T_m \\right)_y}_\\text{horizontal temperature advection} \n",
    "- \\overbrace{\\frac{w_{ek} T_m}{H_m}}^\\text{vertical temperature advection}\n",
    "+ \\underbrace{\\frac{F_0}{\\rho C_p h_m}}_\\text{heat flux from ocean} \n",
    "- \\overbrace{\\frac{F_m}{\\rho C_p h_m}}^\\text{atmospheric heat fluxes} \n",
    "+ \\underbrace{K_2 \\nabla _H^2 T_m - K_4 \\nabla _H^4 T_m}_\\text{diffusion}\n",
    "$$"
   ]
  },
  {
   "cell_type": "markdown",
   "metadata": {},
   "source": [
    "### Where heat fluxes are defined as\n",
    "\n",
    "$$\n",
    "F_m = F_m ^{\\uparrow} + F_1 ^{\\downarrow} + {}^a F_m ^{e-}\n",
    "$$\n",
    "$$\n",
    "F_0 = F_m ^{\\downarrow} + F_{\\lambda} + F_0 ^{\\uparrow} \\text{ ,  over ocean}\n",
    "$$\n",
    "$$\n",
    "F_0 = -F_S ^{'} \\text{ ,  over land}\n",
    "$$\n"
   ]
  },
  {
   "cell_type": "markdown",
   "metadata": {},
   "source": [
    "### where"
   ]
  },
  {
   "cell_type": "markdown",
   "metadata": {},
   "source": [
    "$$\n",
    "F_m ^{\\uparrow} = B_m ^{\\uparrow} {}^a \\eta _m + D_m ^{\\uparrow} {}^a T_m \\rightarrow \\text{upward radiative heat from atm ml}\n",
    "$$\n",
    "$$\n",
    "F_1 ^{\\downarrow} = A_{1,1} ^{\\downarrow} {}^a \\eta _1 + B_1 ^{\\downarrow} {}^a \\eta _m \\rightarrow \\text{downward first layer radiative heat}\n",
    "$$\n",
    "$$\n",
    "{}^a F_m ^{e-} = \\phi _m \\eta _m \\rightarrow \\text{entrainment heat flux}\n",
    "$$\n",
    "\n",
    "$$\n",
    "F_m ^{\\downarrow} = D_m ^{\\downarrow} {}^a T_m \\rightarrow \\text{atm rad over ocean}\n",
    "$$\n",
    "$$\n",
    "F_{\\lambda} = \\lambda ({}^o T_m - {}^a T_m) \\rightarrow \\text{sensible/latent heat over ocean}\n",
    "$$\n",
    "$$\n",
    "F_0 ^{\\uparrow} = D_0 ^{\\uparrow} {}^o T_m \\rightarrow \\text{oc rad heat over ocean}\n",
    "$$"
   ]
  },
  {
   "cell_type": "markdown",
   "metadata": {},
   "source": [
    "#### Transform to frequency space"
   ]
  },
  {
   "cell_type": "markdown",
   "metadata": {},
   "source": [
    "Let all terms be of the form: $A(x,y,t) = \\sum _{\\omega} \\widehat{A} (x,y,\\omega) e^{i \\omega t}$"
   ]
  },
  {
   "cell_type": "markdown",
   "metadata": {},
   "source": [
    "$$\n",
    "i \\omega \\widehat{T_m} = - \\widehat{\\left( u_m T_m \\right)_x} - \\widehat{\\left( v_m T_m \\right)_y}\n",
    "- \\frac{1}{H_m} \\widehat{w_{ek} T_m}\n",
    "+ \\widehat{\\frac{F_0}{\\rho C_p h_m}}\n",
    "- \\widehat{\\frac{F_m}{\\rho C_p h_m}}\n",
    "+ K_2 \\widehat{\\nabla _H^2 T_m} - K_4 \\widehat{\\nabla _H^4 T_m}\n",
    "$$\n",
    "(1)"
   ]
  },
  {
   "cell_type": "markdown",
   "metadata": {},
   "source": [
    "#### Multiply equation (1) by $\\widehat{T_m ^*}$ (where * denotes complex conjugate)"
   ]
  },
  {
   "cell_type": "markdown",
   "metadata": {},
   "source": [
    "$$\n",
    "i \\omega \\widehat{{}^a T_m} ^* \\widehat{T_m} = - \\widehat{{}^a T_m} ^* \\widehat{\\left( u_m T_m \\right)_x} - \\widehat{{}^a T_m} ^* \\widehat{\\left( v_m T_m \\right)_y}\n",
    "- \\frac{1}{H_m} \\widehat{{}^a T_m} ^* \\widehat{w_{ek} T_m}\n",
    "+ \\widehat{{}^a T_m} ^* \\widehat{\\frac{F_0}{\\rho C_p h_m}}\n",
    "- \\widehat{{}^a T_m} ^* \\widehat{\\frac{F_m}{\\rho C_p h_m}}\n",
    "+ K_2 \\widehat{{}^a T_m} ^* \\widehat{\\nabla _H^2 T_m} - K_4 \\widehat{{}^a T_m} ^* \\widehat{\\nabla _H^4 T_m}\n",
    "$$"
   ]
  },
  {
   "cell_type": "markdown",
   "metadata": {},
   "source": [
    "#### Multiply equation (1)* by $\\widehat{T_m}$ (where * denotes complex conjugate)"
   ]
  },
  {
   "cell_type": "markdown",
   "metadata": {},
   "source": [
    "$$\n",
    "-i \\omega \\widehat{{}^a T_m} \\widehat{T_m}^* = - \\widehat{{}^a T_m}  \\widehat{\\left( u_m T_m \\right)_x}^* - \\widehat{{}^a T_m} \\widehat{\\left( v_m T_m \\right)_y} ^*\n",
    "- \\frac{1}{H_m} \\widehat{{}^a T_m} \\widehat{w_{ek} T_m} ^*\n",
    "+ \\widehat{{}^a T_m} \\widehat{\\frac{F_0}{\\rho C_p h_m}} ^*\n",
    "- \\widehat{{}^a T_m} \\widehat{\\frac{F_m}{\\rho C_p h_m}} ^*\n",
    "+ K_2 \\widehat{{}^a T_m} \\widehat{\\nabla _H^2 T_m} ^* - K_4 \\widehat{{}^a T_m} \\widehat{\\nabla _H^4 T_m} ^*\n",
    "$$"
   ]
  },
  {
   "cell_type": "markdown",
   "metadata": {},
   "source": [
    "#### Sum previous two equations and use property:  $\\dfrac{a^*b + b^*a}{2} = \\mathrm{Re}[a^*b]$"
   ]
  },
  {
   "cell_type": "markdown",
   "metadata": {},
   "source": [
    "$$\n",
    "0 = \n",
    "- \\mathrm{Re} \\left[ \\widehat{{}^a T_m} ^* \\widehat{(u_m {}^a T_m)_x} \\right]\n",
    "- \\mathrm{Re} \\left[ \\widehat{{}^a T_m} ^* \\widehat{(v_m {}^a T_m)_y} \\right]\n",
    "- \\frac{1}{H_m} \\mathrm{Re} \\left[ \\widehat{{}^a T_m} ^* \\widehat{(w_{ek} {}^a T_m)} \\right] \\\\\n",
    "+ \\frac{1}{\\rho C_p} \\mathrm{Re} \\left[ \\widehat{{}^a T_m} ^* \\widehat{\\frac{F_0}{h_m}} \\right]\n",
    "- \\frac{1}{\\rho C_p} \\mathrm{Re} \\left[ \\widehat{{}^a T_m} ^* \\widehat{\\frac{F_m}{h_m}} \\right] \\\\\n",
    "+ K_2 \\mathrm{Re} \\left[ \\widehat{{}^a T_m} ^* \\widehat{\\nabla _H^2 T_m} \\right]\n",
    "- K_4 \\mathrm{Re} \\left[ \\widehat{{}^a T_m} ^* \\widehat{\\nabla _H^4 T_m} \\right]\n",
    "$$"
   ]
  },
  {
   "cell_type": "markdown",
   "metadata": {},
   "source": [
    "# Final spectral temperature variance equation (atm)"
   ]
  },
  {
   "cell_type": "markdown",
   "metadata": {},
   "source": [
    "$$\n",
    "0 = \n",
    "- \\underbrace{\\mathrm{Re} \\left[ \\widehat{{}^a T_m} ^* \\widehat{(u_m {}^a T_m)_x} \\right]\n",
    "- \\mathrm{Re} \\left[ \\widehat{{}^a T_m} ^* \\widehat{(v_m {}^a T_m)_y} \\right]}_\\text{horizontal temperature advection}\n",
    "- \\underbrace{\\frac{1}{H_m} \\mathrm{Re} \\left[ \\widehat{{}^a T_m} ^* \\widehat{(w_{ek} {}^a T_m)} \\right]}_\\text{vertical temperature advection} \\\\\n",
    "\\left[ +\n",
    "\\underbrace{\\frac{1}{\\rho C_p} \\mathrm{Re} \\left[ \\widehat{{}^a T_m} ^* \\widehat{\\frac{F_m ^{\\downarrow}}{h_m}} \\right]\n",
    "+ \\frac{1}{\\rho C_p} \\mathrm{Re} \\left[ \\widehat{{}^a T_m} ^* \\widehat{\\frac{F_{\\lambda}}{h_m}} \\right]\n",
    "+ \\frac{1}{\\rho C_p} \\mathrm{Re} \\left[ \\widehat{{}^a T_m} ^* \\widehat{\\frac{F_0 ^{\\uparrow}}{h_m}} \\right]}_\\text{heat flux from ocean points} \\right] \\text{over ocean} \\\\\n",
    "\\left[\n",
    "- \\underbrace{\\frac{1}{\\rho C_p} \\mathrm{Re} \\left[ \\widehat{{}^a T_m} ^* \\widehat{\\frac{F_S}{h_m}} \\right]}_\\text{heat flux over land points} \\right] \\text{over land} \\\\\n",
    "- \\underbrace{\\frac{1}{\\rho C_p} \\mathrm{Re} \\left[ \\widehat{{}^a T_m} ^* \\widehat{\\frac{F_m ^{\\uparrow}}{h_m}} \\right]\n",
    "- \\frac{1}{\\rho C_p} \\mathrm{Re} \\left[ \\widehat{{}^a T_m} ^* \\widehat{\\frac{F_1 ^{\\downarrow}}{h_m}} \\right]\n",
    "- \\frac{1}{\\rho C_p} \\mathrm{Re} \\left[ \\widehat{{}^a T_m} ^* \\widehat{\\frac{F_m ^{e-}}{h_m}} \\right]}_\\text{heat flux to/from 1st layer} \\\\\n",
    "+ \\underbrace{K_2 \\mathrm{Re} \\left[ \\widehat{{}^a T_m} ^* \\widehat{\\nabla _H^2 T_m} \\right]\n",
    "- K_4 \\mathrm{Re} \\left[ \\widehat{{}^a T_m} ^* \\widehat{\\nabla _H^4 T_m} \\right]}_\\text{diffusion}\n",
    "$$"
   ]
  },
  {
   "cell_type": "code",
   "execution_count": null,
   "metadata": {},
   "outputs": [],
   "source": []
  }
 ],
 "metadata": {
  "kernelspec": {
   "display_name": "Python 3",
   "language": "python",
   "name": "python3"
  },
  "language_info": {
   "codemirror_mode": {
    "name": "ipython",
    "version": 3
   },
   "file_extension": ".py",
   "mimetype": "text/x-python",
   "name": "python",
   "nbconvert_exporter": "python",
   "pygments_lexer": "ipython3",
   "version": "3.7.3"
  }
 },
 "nbformat": 4,
 "nbformat_minor": 2
}
