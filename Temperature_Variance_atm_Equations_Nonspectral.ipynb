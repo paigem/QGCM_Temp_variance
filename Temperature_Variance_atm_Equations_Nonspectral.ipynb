{
 "cells": [
  {
   "cell_type": "markdown",
   "metadata": {},
   "source": [
    "# Temperature Variance Equations"
   ]
  },
  {
   "cell_type": "markdown",
   "metadata": {},
   "source": [
    "## Atmosphere mixed layer temperature evolution equation"
   ]
  },
  {
   "cell_type": "markdown",
   "metadata": {},
   "source": [
    "$$\n",
    "T_{mt} + \n",
    "\\underbrace{\\left( u_m T_m \\right)_x + \\left( v_m T_m \\right)_y}_\\text{horizontal temperature advection} +\n",
    "\\overbrace{\\frac{w_{ek} T_m}{H_m}}^\\text{vertical temperature advection}\n",
    "= \n",
    "\\underbrace{\\frac{{}^a F_0}{\\rho C_p h_m}}_\\text{heat flux at bottom of atm mixed layer} -\n",
    "\\overbrace{\\frac{{}^a F_m}{\\rho C_p h_m}}^\\text{heat flux at top of atm mixed layer} +\n",
    "\\underbrace{K_2 \\nabla _H^2 T_m - K_4 \\nabla _H^4 T_m}_\\text{diffusion}\n",
    "$$"
   ]
  },
  {
   "cell_type": "markdown",
   "metadata": {},
   "source": [
    "where \n",
    "\n",
    "$$\n",
    "{}^a u_m = -\\frac{1}{f_0} {}^a p_{1y} - \\frac{1}{f_0 {}^a H_m} {}^a \\tau ^y,\n",
    "$$\n",
    "\n",
    "$$\n",
    "{}^a v_m = \\frac{1}{f_0} {}^a p_{1x} + \\frac{1}{f_0 {}^a H_m} {}^a \\tau ^x,\n",
    "$$\n",
    "\n",
    "$$\n",
    "{}^a w_{ek} = \\frac{1}{f_0} \\left({}^a  \\tau _x^y - {}^a \\tau _y^x \\right).\n",
    "$$\n",
    "\n"
   ]
  },
  {
   "cell_type": "markdown",
   "metadata": {},
   "source": [
    "## Multiply each term by T "
   ]
  },
  {
   "cell_type": "markdown",
   "metadata": {},
   "source": [
    "$$\n",
    "T_m T_{mt} + \n",
    "T_m \\left( u_m T_m \\right)_x + T_m \\left( v_m T_m \\right)_y +\n",
    "T_m \\frac{w_{ek} T_m}{H_m}\n",
    "= \n",
    "T_m \\frac{{}^a F_0}{\\rho C_p h_m} -\n",
    "T_m \\frac{{}^a F_m}{\\rho C_p h_m} +\n",
    "T_m K_2 \\nabla _H^2 T_m - K_4 \\nabla _H^4 T_m\n",
    "$$"
   ]
  },
  {
   "cell_type": "markdown",
   "metadata": {},
   "source": [
    "## Integrate over the domain"
   ]
  },
  {
   "cell_type": "markdown",
   "metadata": {},
   "source": [
    "$$\n",
    "\\int T_m T_{mt} dA + \n",
    "\\int T_m \\left( u_m T_m \\right)_x dA + \n",
    "\\int T_m \\left( v_m T_m \\right)_y dA +\n",
    "\\int T_m \\frac{w_{ek} T_m}{H_m} dA\n",
    "= \n",
    "\\int T_m \\frac{{}^a F_0}{\\rho C_p h_m} dA -\n",
    "\\int T_m \\frac{{}^a F_m}{\\rho C_p h_m} dA +\n",
    "\\int T_m K_2 \\nabla _H^2 T_m dA - \\int K_4 \\nabla _H^4 T_m dA\n",
    "$$"
   ]
  },
  {
   "cell_type": "markdown",
   "metadata": {},
   "source": [
    "### Expand $F_0$ and $F_m$"
   ]
  },
  {
   "cell_type": "markdown",
   "metadata": {},
   "source": [
    "$$\n",
    "{}^a F_0  = \\left\\{\n",
    "                \\begin{array}{ll}\n",
    "                  F_m^{\\downarrow} + F_{\\lambda} + F_0^{\\uparrow} \\rightarrow \\text{Over ocean} \\\\\n",
    "                  F_s \\rightarrow \\text{Over land}\n",
    "                \\end{array}\n",
    "              \\right.\n",
    "$$\n",
    "\n",
    "$$\n",
    "{}^a F_m  = F_m^{\\uparrow} + F_1^{\\downarrow} + {}^a F_m^{e-}\n",
    "$$"
   ]
  },
  {
   "cell_type": "markdown",
   "metadata": {},
   "source": [
    "where\n",
    "\n",
    "$$\n",
    "F_{\\lambda} = \\overline{F_{\\lambda}} + \\lambda (^o T_m - ^a T_m) \\rightarrow \\text{Sensible and latent heat} \n",
    "$$\n",
    "\n",
    "$$\n",
    "F_0^{\\uparrow} = \\overline{F_0^{\\uparrow}} + D_0^{\\uparrow} {^o} T_m \\rightarrow \\text{Oceanic radiative heat}\n",
    "$$\n",
    "\n",
    "$$\n",
    "F_m^{\\downarrow} = \\overline{F_m^{\\downarrow}} + D_m^{\\downarrow} {^a} T_m \\rightarrow \\text{Atmospheric radiative heat over ocean}\n",
    "$$\n",
    "\n",
    "$$\n",
    "F_s (y) = \\overline{F_s} + \\frac{F_s'}{2} \\sin \\left(\\frac{\\pi (y-y_0)}{^a Y} \\right)\\rightarrow \\text{Incoming shortwave solar radiation}\n",
    "$$\n",
    "\n",
    "$$\n",
    "F_m^{\\uparrow} = \\overline{F_m^{\\uparrow}} + B_m^{\\uparrow} {}^a \\eta _m + D_m^{\\uparrow} {}^a T_m \\rightarrow \\text{Upward atmospheric mixed layer radiation}\n",
    "$$\n",
    "\n",
    "$$\n",
    "F_1^{\\downarrow} = \\overline{F_1^{\\downarrow} } + A^{\\downarrow}_{1,1} {}^a \\eta _1 + A^{\\downarrow}_{1,2} {}^a \\eta _2 + B^{\\downarrow}_1 {}^a \\eta _m \\rightarrow \\text{Downward atmospheric layer 1 radiation}\n",
    "$$\n",
    "\n",
    "$$\n",
    "{}^a F_m ^{e-} = \\overline{{}^a F_m ^{e-}} + {}^a \\phi _m \\eta _m \\rightarrow \\text{Atmospheric entrainment heat flux}\n",
    "$$"
   ]
  },
  {
   "cell_type": "markdown",
   "metadata": {},
   "source": [
    "## Write each flux term individually, and pull all terms to the LHS (over ocean)"
   ]
  },
  {
   "cell_type": "markdown",
   "metadata": {},
   "source": [
    "$$\n",
    "\\int T_m T_{mt} dA + \n",
    "\\int T_m \\left( u_m T_m \\right)_x dA + \n",
    "\\int T_m \\left( v_m T_m \\right)_y dA +\n",
    "\\int T_m \\frac{w_{ek} T_m}{H_m} dA -\n",
    "\\int T_m \\frac{F_{\\lambda}}{\\rho C_p h_m} dA -\n",
    "\\int T_m \\frac{F_0 ^{\\uparrow}}{\\rho C_p h_m} dA -\n",
    "\\int T_m \\frac{F_m ^{\\downarrow}}{\\rho C_p h_m} dA +\n",
    "\\int T_m \\frac{F_m ^{\\uparrow}}{\\rho C_p h_m} dA +\n",
    "\\int T_m \\frac{F_1 ^{\\downarrow}}{\\rho C_p h_m} dA +\n",
    "\\int T_m \\frac{{}^a F_m^{e-}}{\\rho C_p h_m} dA -\n",
    "\\int T_m K_2 \\nabla _H^2 T_m dA + \\int K_4 \\nabla _H^4 T_m dA\n",
    "= 0\n",
    "$$"
   ]
  },
  {
   "cell_type": "code",
   "execution_count": null,
   "metadata": {},
   "outputs": [],
   "source": []
  }
 ],
 "metadata": {
  "kernelspec": {
   "display_name": "Python [conda env:analysis3-18.07]",
   "language": "python",
   "name": "conda-env-analysis3-18.07-py"
  },
  "language_info": {
   "codemirror_mode": {
    "name": "ipython",
    "version": 3
   },
   "file_extension": ".py",
   "mimetype": "text/x-python",
   "name": "python",
   "nbconvert_exporter": "python",
   "pygments_lexer": "ipython3",
   "version": "3.6.6"
  }
 },
 "nbformat": 4,
 "nbformat_minor": 2
}
