{
 "cells": [
  {
   "cell_type": "code",
   "execution_count": 5,
   "metadata": {},
   "outputs": [],
   "source": [
    "%matplotlib inline\n",
    "\n",
    "import os\n",
    "from glob import glob\n",
    "import numpy as np\n",
    "import matplotlib.pyplot as plt\n",
    "\n",
    "from detrend_func import detrend_func\n",
    "from window_func import main as window_func\n",
    "\n",
    "import dask\n",
    "from distributed import Client, LocalCluster\n",
    "import dask.array as da\n",
    "\n",
    "import xarray as xr\n",
    "from netCDF4 import Dataset"
   ]
  },
  {
   "cell_type": "code",
   "execution_count": 2,
   "metadata": {},
   "outputs": [
    {
     "name": "stderr",
     "output_type": "stream",
     "text": [
      "/g/data3/hh5/public/apps/miniconda3/envs/analysis3-19.10/lib/python3.6/site-packages/distributed/dashboard/core.py:72: UserWarning: \n",
      "Port 8787 is already in use. \n",
      "Perhaps you already have a cluster running?\n",
      "Hosting the diagnostics dashboard on a random port instead.\n",
      "  warnings.warn(\"\\n\" + msg)\n"
     ]
    },
    {
     "data": {
      "text/html": [
       "<table style=\"border: 2px solid white;\">\n",
       "<tr>\n",
       "<td style=\"vertical-align: top; border: 0px solid white\">\n",
       "<h3 style=\"text-align: left;\">Client</h3>\n",
       "<ul style=\"text-align: left; list-style: none; margin: 0; padding: 0;\">\n",
       "  <li><b>Scheduler: </b>tcp://127.0.0.1:35511</li>\n",
       "  <li><b>Dashboard: </b><a href='http://127.0.0.1:38496/status' target='_blank'>http://127.0.0.1:38496/status</a>\n",
       "</ul>\n",
       "</td>\n",
       "<td style=\"vertical-align: top; border: 0px solid white\">\n",
       "<h3 style=\"text-align: left;\">Cluster</h3>\n",
       "<ul style=\"text-align: left; list-style:none; margin: 0; padding: 0;\">\n",
       "  <li><b>Workers: </b>1</li>\n",
       "  <li><b>Cores: </b>8</li>\n",
       "  <li><b>Memory: </b>33.67 GB</li>\n",
       "</ul>\n",
       "</td>\n",
       "</tr>\n",
       "</table>"
      ],
      "text/plain": [
       "<Client: 'tcp://127.0.0.1:35511' processes=1 threads=8, memory=33.67 GB>"
      ]
     },
     "execution_count": 2,
     "metadata": {},
     "output_type": "execute_result"
    }
   ],
   "source": [
    "# Create a Dask Distributed cluster with one processor and as many\n",
    "# threads as cores\n",
    "cluster = LocalCluster(n_workers=1)\n",
    "client = Client(cluster)\n",
    "client"
   ]
  },
  {
   "cell_type": "markdown",
   "metadata": {},
   "source": [
    "### Define constants to be used"
   ]
  },
  {
   "cell_type": "code",
   "execution_count": 3,
   "metadata": {},
   "outputs": [],
   "source": [
    "dx = 80000. # meters\n",
    "dy = 80000. # meters\n",
    "dt = 1 # in days\n",
    "H = [2000.0, 3000.0, 4000.0]  # meters\n",
    "Htot = H[0] + H[1] + H[2]\n",
    "Hm = 1000. # meters\n",
    "f0 = 9.37456*(10**(-5)) #1/s (Coriolis parameter)\n",
    "g = [1.2, .4]\n",
    "rho = 1.0 # kg/(m^3)\n",
    "Cp = 1000. # specific heat of atm in J/(kg*K)\n",
    "T1 = 287\n",
    "ocnorm = 1.0/(960*960) #from QGCM write-up\n",
    "atnorm = 1/(384*96)\n",
    "dt = 1 #86400.0 # seconds in a day (time difference between each point in time)\n",
    "K2 = 2.5e4 # m^2/s (called st2d in input.params)\n",
    "K4 = 2e14 # m^4/s (called st4d in input.params)\n",
    "tmbaro = 3.04870e2 # mean ocean mixed layer absolute temperature (K)\n",
    "tmbara = 3.05522e2 # mean atmosphere mixed layer absolute temperature (K)\n",
    "toc1 = -1.78699e1 # Relative temperature for ocean layer 1\n",
    "\n",
    "# --------------------------------\n",
    "# The following are radiation constants output from the model\n",
    "Bmup = -0.0213270418023 # ml eta coeffs\n",
    "Dmup = 2.9649482139808 # temperature perturbation coeffs\n",
    "A11down = 1.68632e-3 # QG internal interface eta coeffs\n",
    "A12down = -1.63976e-3 # QG internal interface eta coeffs\n",
    "B1down = 0.0116366566754 # ml eta coeffs\n",
    "\n",
    "Dmdown = -3.2342349507402\n",
    "D0up = 6.4271329356690\n",
    "lamda = 35.00000 # sensible/latent heat flux coefficient (W m^2/kg) \n",
    "Fs_prime = 80.0 # perturbation amplitude of incoming solar radiation (W/m^2)\n"
   ]
  },
  {
   "cell_type": "code",
   "execution_count": 4,
   "metadata": {},
   "outputs": [],
   "source": [
    "tile_size = 100"
   ]
  },
  {
   "cell_type": "markdown",
   "metadata": {},
   "source": [
    "### Horizontal temperature advection\n",
    "\n",
    "$$\n",
    "\\widehat{T^a}^* \\widehat{ \\left( u_m T_m \\right)_x} + \\widehat{T^a}^* \\widehat{ \\left( v_m T_m \\right)_y}\n",
    "$$\n",
    "where\n",
    "$$\n",
    "u_m = - \\frac{1}{f_0} p_{1y} - \\frac{1}{f_0 H_m} \\tau ^y \\\\\n",
    "v_m = \\frac{1}{f_0} p_{1x} + \\frac{1}{f_0 H_m} \\tau ^x\n",
    "$$"
   ]
  },
  {
   "cell_type": "code",
   "execution_count": 24,
   "metadata": {},
   "outputs": [],
   "source": [
    "def calc_H_adv(dsx1, dsx2, tile_index, z=0): \n",
    "    \n",
    "    # dsx1 is atpa\n",
    "    # dsx2 is atast\n",
    "    \n",
    "    # Select variable\n",
    "    T = dsx2.ast\n",
    "    p = dsx1.p.isel(z=0)\n",
    "    taux = dsx1.taux\n",
    "    tauy = dsx1.tauy\n",
    "\n",
    "    # Select specified tile, with 2-cell padding for taking of derivatives\n",
    "    ix, iy = tile_index\n",
    "    \n",
    "    # First define the start and end x-slices to deal with periodic boundaries\n",
    "    pstart = p.isel(yp=slice(iy*tile_size, (iy+1)*tile_size),\n",
    "                 xp=slice(0,2))\n",
    "    tauxstart = taux.isel(yp=slice(iy*tile_size, (iy+1)*tile_size),\n",
    "                 xp=slice(0,2))\n",
    "    tauystart = tauy.isel(yp=slice(iy*tile_size, (iy+1)*tile_size),\n",
    "                 xp=slice(0,2))\n",
    "    Tstart = T.isel(yt=slice(iy*tile_size, (iy+1)*tile_size),\n",
    "                 xt=slice(0,1))\n",
    "    pend = p.isel(yp=slice(iy*tile_size, (iy+1)*tile_size),\n",
    "                 xp=slice(-1,None))\n",
    "    tauxend = taux.isel(yp=slice(iy*tile_size, (iy+1)*tile_size),\n",
    "                 xp=slice(-1,None))\n",
    "    tauyend = tauy.isel(yp=slice(iy*tile_size, (iy+1)*tile_size),\n",
    "                 xp=slice(-1,None))\n",
    "    Tend = T.isel(yt=slice(iy*tile_size, (iy+1)*tile_size),\n",
    "                 xt=slice(-1,None))\n",
    "    \n",
    "    T = T.isel(yt=slice(max(iy*tile_size-1,0), (iy+1)*tile_size+1),\n",
    "               xt=slice(max(ix*tile_size-1,0), (ix+1)*tile_size+1))\n",
    "    p = p.isel(yp=slice(max(iy*tile_size-1,0), (iy+1)*tile_size+2), # +2 because p and tau on p-grid, T on T-grid\n",
    "               xp=slice(max(ix*tile_size-1,0), (ix+1)*tile_size+2))\n",
    "    taux = taux.isel(yp=slice(max(iy*tile_size-1,0), (iy+1)*tile_size+2),\n",
    "                 xp=slice(max(ix*tile_size-1,0), (ix+1)*tile_size+2))\n",
    "    tauy = tauy.isel(yp=slice(max(iy*tile_size-1,0), (iy+1)*tile_size+2),\n",
    "                 xp=slice(max(ix*tile_size-1,0), (ix+1)*tile_size+2))\n",
    "    \n",
    "    print('pstart and pend shape = ',pstart.shape,pend.shape)\n",
    "    \n",
    "    print('T, p shape after isel = ',T.shape,p.shape)\n",
    "    \n",
    "    xt = T.xt.values # grab values of dask arrays\n",
    "    yt = T.yt.values\n",
    "    time = T.time.values\n",
    "    \n",
    "    T = T.data\n",
    "    p = p.data\n",
    "    taux = taux.data\n",
    "    tauy = tauy.data\n",
    "    \n",
    "    # Concatenate end pieces on\n",
    "    if ix == 0: # first x-chunk\n",
    "        p = da.concatenate([pend,p],axis=1)\n",
    "        taux = da.concatenate([tauxend,taux],axis=1)\n",
    "        tauy = da.concatenate([tauyend,tauy],axis=1)\n",
    "        T = da.concatenate([Tend,T],axis=1)\n",
    "        print('p, taux, tauy shape after concat = ',p.shape,taux.shape,tauy.shape)\n",
    "    if ix == 3: #last x-chunk\n",
    "        p = da.concatenate([p,pstart],axis=1)\n",
    "        taux = da.concatenate([taux,tauxstart],axis=1)\n",
    "        tauy = da.concatenate([tauy,tauystart],axis=1)\n",
    "        T = da.concatenate([T,Tstart],axis=1)\n",
    "        print('p, taux, tauy shape after concat = ',p.shape,taux.shape,tauy.shape)\n",
    "    \n",
    "    # Average p and tau dimensions to match T-grid\n",
    "    p = 0.5 * (p[1:,:,:]+p[:-1,:,:])\n",
    "    p = 0.5 * (p[:,1:,:]+p[:,:-1,:])\n",
    "    tauy_avg = 0.5 * (tauy[1:,:,:] + tauy[:-1,:,:])\n",
    "    tauy_avg = 0.5 * (tauy_avg[:,1:,:] + tauy_avg[:,:-1,:])\n",
    "    taux_avg = 0.5 * (taux[1:,:,:] + taux[:-1,:,:])\n",
    "    taux_avg = 0.5 * (taux_avg[:,1:,:] + taux_avg[:,:-1,:])\n",
    "    print('p and tauy_avg.shape = ',p.shape,tauy_avg.shape)\n",
    "    \n",
    "    # Update size variables\n",
    "    ny, nx, nt = T.shape\n",
    "    T = T.rechunk(chunks={0: ny, 1: nx})\n",
    "    p = p.rechunk(chunks={0: ny, 1: nx})\n",
    "    taux_avg = taux_avg.rechunk(chunks={0: ny, 1: nx})\n",
    "    tauy_avg = tauy_avg.rechunk(chunks={0: ny, 1: nx})\n",
    "    \n",
    "    \n",
    "    # Take a single derivative using centered diff\n",
    "    def Derivative(var, axis):\n",
    "        var_right = np.roll(var, 1, axis=axis)\n",
    "        var_left = np.roll(var, -1, axis=axis)\n",
    "        dvar = var_left - var_right\n",
    "        return dvar\n",
    "        \n",
    "    Derivative_x = lambda p: Derivative(p, 1)\n",
    "    Derivative_y = lambda p: Derivative(p, 0)\n",
    "    \n",
    "    # Evaluate the derivative function\n",
    "    dpdx = (1./(2*dx)) * p.map_blocks(Derivative_x)\n",
    "    dpdy = (1./(2*dx)) * p.map_blocks(Derivative_y)\n",
    "    print('dpdx.shape = ',dpdx.shape)\n",
    "\n",
    "    # Define ml velocities\n",
    "    um = -(1./f0) * dpdy - (1./(f0*Hm)) * tauy_avg\n",
    "    vm = (1./f0) * dpdx + (1./(f0*Hm)) * taux_avg\n",
    "    print('um.shape, vm.shape = ',um.shape,vm.shape)\n",
    "    \n",
    "    # Velocity * Temp\n",
    "    umTm = um * T\n",
    "    vmTm = vm * T\n",
    "    \n",
    "    # Take derivatives of these terms\n",
    "    umTm_x = (1./(2*dx)) * umTm.map_blocks(Derivative_x)\n",
    "    vmTm_y = (1./(2*dx)) * vmTm.map_blocks(Derivative_y)\n",
    "    \n",
    "    print('umTm_x shape = ',umTm_x.shape)\n",
    "    \n",
    "    # Trim arrays of extra ends\n",
    "    umTm_x = umTm_x[1:-1, 1:-1, :]\n",
    "    vmTm_y = vmTm_y[1:-1, 1:-1, :]\n",
    "    T = T[1:-1, 1:-1, :]\n",
    "    print('after trimming cells ',T.shape,umTm_x.shape)\n",
    "    \n",
    "    # Use smaller spatial chunks for fft\n",
    "    T = T.rechunk(chunks={0: tile_size/10, 1: tile_size/10, 2: nt})\n",
    "    umTm_x = umTm_x.rechunk(chunks={0: tile_size/10, 1: tile_size/10, 2: nt})\n",
    "    vmTm_y = vmTm_y.rechunk(chunks={0: tile_size/10, 1: tile_size/10, 2: nt})\n",
    "    \n",
    "    print('p shape after chunking/10 = ',T.shape)\n",
    "        \n",
    "    # Function that detrends, windows, and takes fft\n",
    "    def fft_block(var):\n",
    "        var = detrend_func(var,'time')\n",
    "        var = window_func(var,'time')\n",
    "        varhat = (1./var.shape[2])*np.fft.rfft(var, axis=2)\n",
    "        return varhat\n",
    "    \n",
    "    # Execute fft function above\n",
    "    That = T.map_blocks(fft_block)\n",
    "    umTm_xhat = umTm_x.map_blocks(fft_block)\n",
    "    vmTm_yhat = vmTm_y.map_blocks(fft_block)\n",
    "    \n",
    "    # Rechunk back to tile_size\n",
    "    That = That.rechunk(chunks={0: tile_size, 1:tile_size, 2: 365})\n",
    "    umTm_xhat = umTm_xhat.rechunk(chunks={0: tile_size, 1:tile_size, 2: 365})\n",
    "    vmTm_yhat = vmTm_yhat.rechunk(chunks={0: tile_size, 1:tile_size, 2: 365})\n",
    "\n",
    "    # Multiply together and take the real part\n",
    "    TumTm_x = ((That.conj()*umTm_xhat).real)\n",
    "    TvmTm_y = ((That.conj()*vmTm_yhat).real)\n",
    "    print('final shape = ',TumTm_x.shape)\n",
    "\n",
    "    # Sum over x- and y-axes\n",
    "    TumTm_x = da.sum(TumTm_x, axis=(0,1))\n",
    "    TvmTm_y = da.sum(TvmTm_y, axis=(0,1))\n",
    "    \n",
    "    # Tell dask to compute the values\n",
    "    TumTm_x = TumTm_x.compute()\n",
    "    TvmTm_y = TvmTm_y.compute()\n",
    "    \n",
    "    # Wrap as DataArray\n",
    "    n = len(time)\n",
    "    d = time[1] - time[0]\n",
    "    freq = np.fft.rfftfreq(n, d)\n",
    "    \n",
    "    TumTm_x = xr.DataArray(TumTm_x, \n",
    "                      dims=['freq'], \n",
    "                      coords={'freq': freq,\n",
    "                              'xt': xt.mean(),\n",
    "                              'yt': yt.mean()})\n",
    "    \n",
    "    TvmTm_y = xr.DataArray(TvmTm_y, \n",
    "                      dims=['freq'], \n",
    "                      coords={'freq': freq,\n",
    "                              'xt': xt.mean(),\n",
    "                              'yt': yt.mean()})\n",
    "    \n",
    "    return TumTm_x,TvmTm_y"
   ]
  },
  {
   "cell_type": "code",
   "execution_count": 26,
   "metadata": {},
   "outputs": [
    {
     "name": "stdout",
     "output_type": "stream",
     "text": [
      "pstart and pend shape =  (97, 2, 365) (97, 1, 365)\n",
      "T, p shape after isel =  (96, 101, 365) (97, 102, 365)\n",
      "T and p shape with buffer of 2 on either side =  (96, 101, 365) (97, 102, 365)\n",
      "p, taux, tauy shape after concat =  (97, 103, 365) (97, 103, 365) (97, 103, 365)\n",
      "p and tauy_avg.shape =  (96, 102, 365) (96, 102, 365)\n",
      "dpdx.shape =  (96, 102, 365)\n",
      "um.shape, vm.shape =  (96, 102, 365) (96, 102, 365)\n",
      "umTm_x shape =  (96, 102, 365)\n",
      "after trimming cells  (94, 100, 365) (94, 100, 365)\n",
      "p shape after chunking/10 =  (94, 100, 365)\n",
      "final shape =  (94, 100, 365)\n"
     ]
    }
   ],
   "source": [
    "Hu,Hv = calc_H_adv(dsx1,dsx2,(0,0),0)"
   ]
  },
  {
   "cell_type": "markdown",
   "metadata": {},
   "source": [
    "### Vertical temperature advection\n",
    "\n",
    "\n",
    "$$\n",
    "\\frac{1}{H_m} \\widehat{T^a}^* \\widehat{ w_{ek} T_m}\n",
    "$$\n"
   ]
  },
  {
   "cell_type": "code",
   "execution_count": 156,
   "metadata": {
    "scrolled": true
   },
   "outputs": [],
   "source": [
    "def calc_vert_adv(dsx, tile_index, z=0):\n",
    "    \n",
    "    # Select variables\n",
    "    T = dsx.ast\n",
    "    wekt = dsx.wekt\n",
    "    \n",
    "    # Work with DaskArrays\n",
    "    ix, iy = tile_index\n",
    "    T = T.isel(yt=slice(max(iy*tile_size,0), (iy+1)*tile_size),\n",
    "                 xt=slice(max(ix*tile_size,0), (ix+1)*tile_size))\n",
    "    wekt = wekt.isel(yt=slice(max(iy*tile_size,0), (iy+1)*tile_size),\n",
    "                 xt=slice(max(ix*tile_size,0), (ix+1)*tile_size))\n",
    "\n",
    "    xt = T.xt.values\n",
    "    yt = T.yt.values\n",
    "    time = T.time.values\n",
    "    \n",
    "    T = T.data\n",
    "    wekt = wekt.data\n",
    "    \n",
    "    print('original shapes of wekt and T = ',wekt.shape,T.shape)\n",
    "    \n",
    "    ny, nx, nt = T.shape\n",
    "    T = T.rechunk(chunks={0: ny, 1: nx})\n",
    "    wekt = wekt.rechunk(chunks={0: ny, 1: nx})   \n",
    "    print('wekt shape = ',wekt.shape,T.shape)\n",
    "    \n",
    "    wekT = wekt * T\n",
    "    \n",
    "    # Take fft (after detrend and window)\n",
    "    def fft_block(var): # var is numpy array\n",
    "        var = detrend_func(var,'time')\n",
    "        var = window_func(var,'time')\n",
    "        varhat = (1./var.shape[2])*np.fft.rfft(var, axis=2)\n",
    "        return varhat\n",
    "    \n",
    "    # Use smaller spatial chunks for fft\n",
    "    T = T.rechunk(chunks={0: tile_size/10, 1: tile_size/10, 2: nt})\n",
    "    wekT = wekT.rechunk(chunks={0: tile_size/10, \n",
    "                                  1: tile_size/10, \n",
    "                                  2: nt})\n",
    "    \n",
    "    # Execute fft function above\n",
    "    That = T.map_blocks(fft_block)\n",
    "    wekThat = wekT.map_blocks(fft_block)\n",
    "    \n",
    "    #pdiffhat = da.fft.rfft(pdiff, axis=2)\n",
    "    That = That.rechunk( chunks={0: tile_size, 1:tile_size, 2: 365})\n",
    "    wekThat = wekThat.rechunk(chunks={0: tile_size, \n",
    "                                        1: tile_size, \n",
    "                                        2: 365})\n",
    "    # Multiply by constants\n",
    "    vert_adv = (1./Hm) * (That.conj()*wekThat).real\n",
    "\n",
    "    # Sum over x- and y-axes\n",
    "    vert_adv = da.sum(vert_adv, axis=(0,1))\n",
    "    \n",
    "    vert_adv = vert_adv.compute()\n",
    "    \n",
    "    # wrap as DataArray\n",
    "    n = len(time)\n",
    "    d = time[1] - time[0]\n",
    "    freq = np.fft.rfftfreq(n, d)\n",
    "    \n",
    "    vert_adv = xr.DataArray(vert_adv,\n",
    "                      dims=['freq'], \n",
    "                      coords={'freq': freq,\n",
    "                              'xt': xt.mean(),\n",
    "                              'yt': yt.mean()})\n",
    "    return vert_adv"
   ]
  },
  {
   "cell_type": "code",
   "execution_count": 157,
   "metadata": {},
   "outputs": [
    {
     "name": "stdout",
     "output_type": "stream",
     "text": [
      "original shapes of wekt and T =  (96, 84, 365) (96, 84, 365)\n",
      "wekt shape =  (96, 84, 365) (96, 84, 365)\n"
     ]
    }
   ],
   "source": [
    "vert = calc_vert_adv(dsx2,(3,0))"
   ]
  },
  {
   "cell_type": "code",
   "execution_count": 158,
   "metadata": {},
   "outputs": [
    {
     "data": {
      "text/plain": [
       "[<matplotlib.lines.Line2D at 0x14a6457e8a58>]"
      ]
     },
     "execution_count": 158,
     "metadata": {},
     "output_type": "execute_result"
    },
    {
     "data": {
      "image/png": "[encoded data removed]",
      "text/plain": [
       "<Figure size 432x288 with 1 Axes>"
      ]
     },
     "metadata": {
      "needs_background": "light"
     },
     "output_type": "display_data"
    }
   ],
   "source": [
    "plt.semilogx(vert)"
   ]
  },
  {
   "cell_type": "markdown",
   "metadata": {},
   "source": [
    "## All terms of the form:\n",
    "\n",
    "$$\n",
    "{}^a \\widehat{T_m}^* {}^a \\widehat{\\eta _m}\n",
    "$$\n"
   ]
  },
  {
   "cell_type": "code",
   "execution_count": 159,
   "metadata": {},
   "outputs": [],
   "source": [
    "def calc_Tana(dsx1, tile_index):\n",
    "    # Select variables\n",
    "    Ta = dsx1.ast\n",
    "    hm = dsx1.hmixa\n",
    "    \n",
    "    # Work with DaskArrays\n",
    "    ix, iy = tile_index\n",
    "    Ta = Ta.isel(yt=slice(iy*tile_size, (iy+1)*tile_size),\n",
    "                 xt=slice(ix*tile_size, (ix+1)*tile_size))\n",
    "    hm = hm.isel(yt=slice(iy*tile_size, (iy+1)*tile_size),\n",
    "                 xt=slice(ix*tile_size, (ix+1)*tile_size))\n",
    "    \n",
    "    print('Ta, hm shapes after isel = ',Ta.shape, hm.shape)\n",
    "    \n",
    "    xt = Ta.xt.values\n",
    "    yt = Ta.yt.values\n",
    "    time = Ta.time.values\n",
    "    \n",
    "    Ta = Ta.data\n",
    "    hm = hm.data\n",
    "    \n",
    "    ny, nx, nt = Ta.shape\n",
    "    \n",
    "    print('Original shape = ',Ta.shape)\n",
    "    \n",
    "    # Define eta_m = h_m - H_m\n",
    "    nm = hm - Hm\n",
    "    nm = nm/hm\n",
    "    print('nm shape = ',nm.shape)\n",
    " \n",
    "    # Take fft (after detrend and window)\n",
    "    def fft_block(var): # var is numpy array\n",
    "        var = detrend_func(var,'time')\n",
    "        var = window_func(var,'time')\n",
    "        varhat = (1.0/var.shape[2])*np.fft.rfft(var, axis=2)\n",
    "        return varhat\n",
    "    \n",
    "    # Resize for faster FFT\n",
    "    Ta = Ta.rechunk(chunks={0: tile_size/10, 1: tile_size/10, 2: nt})\n",
    "    nm = nm.rechunk(chunks={0: tile_size/10, 1: tile_size/10, 2: nt})\n",
    "\n",
    "    # Execute fft function above\n",
    "    Tahat = Ta.map_blocks(fft_block)\n",
    "    nmhat = nm.map_blocks(fft_block)\n",
    "    \n",
    "    # Resize back to original tile size (100)\n",
    "    Tahat = Tahat.rechunk(chunks={0: tile_size, \n",
    "                                  1: tile_size, \n",
    "                                  2: 365})\n",
    "    nmhat = nmhat.rechunk(chunks={0: tile_size, \n",
    "                                  1: tile_size, \n",
    "                                  2: 365})\n",
    "    \n",
    "    # Multiply by constants\n",
    "    Tana = (Tahat.conj()*nmhat).real\n",
    "\n",
    "    # Sum over x- and y-axes\n",
    "    Tana = da.sum(Tana, axis=(0,1))\n",
    "    \n",
    "    Tana = Tana.compute()\n",
    "    \n",
    "    # wrap as DataArray\n",
    "    n = len(time)\n",
    "    d = time[1] - time[0]\n",
    "    freq = np.fft.rfftfreq(n, d)\n",
    "    \n",
    "    Tana = xr.DataArray(Tana,\n",
    "                      dims=['freq'], \n",
    "                      coords={'freq': freq,\n",
    "                              'xt': xt.mean(),\n",
    "                              'yt': yt.mean()})\n",
    "    \n",
    "    return Tana"
   ]
  },
  {
   "cell_type": "code",
   "execution_count": 160,
   "metadata": {},
   "outputs": [
    {
     "name": "stdout",
     "output_type": "stream",
     "text": [
      "Ta, hm shapes after isel =  (96, 84, 365) (96, 84, 365)\n",
      "Original shape =  (96, 84, 365)\n",
      "nm shape =  (96, 84, 365)\n",
      "Aftermasking =  (96, 84, 365)\n"
     ]
    }
   ],
   "source": [
    "Tan = calc_Tana(dsx2,(3,0))"
   ]
  },
  {
   "cell_type": "code",
   "execution_count": 161,
   "metadata": {},
   "outputs": [
    {
     "data": {
      "text/plain": [
       "[<matplotlib.lines.Line2D at 0x14a64576c4e0>]"
      ]
     },
     "execution_count": 161,
     "metadata": {},
     "output_type": "execute_result"
    },
    {
     "data": {
      "image/png": "[encoded data removed]",
      "text/plain": [
       "<Figure size 432x288 with 1 Axes>"
      ]
     },
     "metadata": {
      "needs_background": "light"
     },
     "output_type": "display_data"
    }
   ],
   "source": [
    "plt.semilogx(Tan)"
   ]
  },
  {
   "cell_type": "markdown",
   "metadata": {},
   "source": [
    "## All terms of the form:\n",
    "\n",
    "$$\n",
    "{}^a \\widehat{T}^* {}^a \\widehat{T}\n",
    "$$\n"
   ]
  },
  {
   "cell_type": "code",
   "execution_count": 168,
   "metadata": {},
   "outputs": [],
   "source": [
    "def calc_Ta2(dsx1, tile_index):\n",
    "    # Select variables\n",
    "    T = dsx1.ast\n",
    "    hm = dsx1.hmixa\n",
    "\n",
    "    # Work with DaskArrays\n",
    "    ix, iy = tile_index\n",
    "    T = T.isel(yt=slice(iy*tile_size, (iy+1)*tile_size),\n",
    "                 xt=slice(ix*tile_size, (ix+1)*tile_size))\n",
    "    hm = hm.isel(yt=slice(iy*tile_size, (iy+1)*tile_size),\n",
    "                 xt=slice(ix*tile_size, (ix+1)*tile_size))\n",
    "    \n",
    "    print('To shape after isel = ',T.shape)\n",
    "    \n",
    "    xt = T.xt.values\n",
    "    yt = T.yt.values\n",
    "    time = T.time.values\n",
    "    \n",
    "    T = T.data\n",
    "    \n",
    "    ny, nx, nt = T.shape\n",
    "    \n",
    "    print('Original shape = ',T.shape)\n",
    "\n",
    "    # Divide by hm\n",
    "    Thm = T/hm\n",
    "        \n",
    "    print('Aftermasking = ',T.shape)\n",
    " \n",
    "    # Take fft (after detrend and window)\n",
    "    def fft_block(var): # var is numpy array\n",
    "        var = detrend_func(var,'time')\n",
    "        var = window_func(var,'time')\n",
    "        varhat = (1.0/var.shape[2])*np.fft.rfft(var, axis=2)\n",
    "        return varhat\n",
    "    \n",
    "    # Resize for faster FFT\n",
    "    T = T.rechunk(chunks={0: tile_size/10, 1: tile_size/10, 2: nt})\n",
    "    Thm = Thm.rechunk(chunks={0: tile_size/10, 1: tile_size/10, 2: nt})\n",
    "\n",
    "    # Execute fft function above\n",
    "    That = T.map_blocks(fft_block)\n",
    "    Thmhat = Thm.map_blocks(fft_block)\n",
    "    \n",
    "    # Resize back to original tile size (100)\n",
    "    That = That.rechunk(chunks={0: tile_size, \n",
    "                                  1: tile_size, \n",
    "                                  2: 365})\n",
    "    Thmhat = Thmhat.rechunk(chunks={0: tile_size, \n",
    "                                  1: tile_size, \n",
    "                                  2: 365})\n",
    "    \n",
    "    # Multiply by constants\n",
    "    T2 = (That.conj()*Thmhat).real\n",
    "\n",
    "    # Sum over x- and y-axes\n",
    "    Ta2 = da.sum(T2, axis=(0,1))\n",
    "    \n",
    "    Ta2 = Ta2.compute()\n",
    "    \n",
    "    # wrap as DataArray\n",
    "    n = len(time)\n",
    "    d = time[1] - time[0]\n",
    "    freq = np.fft.rfftfreq(n, d)\n",
    "    \n",
    "    Ta2 = xr.DataArray(Ta2,\n",
    "                      dims=['freq'], \n",
    "                      coords={'freq': freq,\n",
    "                              'xt': xt.mean(),\n",
    "                              'yt': yt.mean()})\n",
    "    \n",
    "    return Ta2"
   ]
  },
  {
   "cell_type": "code",
   "execution_count": 169,
   "metadata": {},
   "outputs": [
    {
     "name": "stdout",
     "output_type": "stream",
     "text": [
      "To shape after isel =  (96, 84, 365)\n",
      "Original shape =  (96, 84, 365)\n",
      "Aftermasking =  (96, 84, 365)\n"
     ]
    }
   ],
   "source": [
    "Ta2 = calc_Ta2(dsx2,(3,0))"
   ]
  },
  {
   "cell_type": "code",
   "execution_count": 170,
   "metadata": {},
   "outputs": [
    {
     "data": {
      "text/plain": [
       "[<matplotlib.lines.Line2D at 0x14a645691668>]"
      ]
     },
     "execution_count": 170,
     "metadata": {},
     "output_type": "execute_result"
    },
    {
     "data": {
      "image/png": "[encoded data removed]",
      "text/plain": [
       "<Figure size 432x288 with 1 Axes>"
      ]
     },
     "metadata": {
      "needs_background": "light"
     },
     "output_type": "display_data"
    }
   ],
   "source": [
    "plt.semilogx(Ta2)"
   ]
  },
  {
   "cell_type": "markdown",
   "metadata": {},
   "source": [
    "## All terms of the form:\n",
    "\n",
    "$$\n",
    "{}^a \\widehat{T}^* {}^a \\widehat{\\eta _1}\n",
    "$$\n"
   ]
  },
  {
   "cell_type": "code",
   "execution_count": 171,
   "metadata": {},
   "outputs": [],
   "source": [
    "def calc_Tn1(dsx1, dsx2, tile_index):\n",
    "    # Select variables\n",
    "    T = dsx2.ast\n",
    "    hm = dsx2.hmixa\n",
    "    p1 = dsx1.p.isel(z=0)\n",
    "    p2 = dsx1.p.isel(z=1)\n",
    "    \n",
    "    print('Original shape = ',T.shape,p1.shape,p2.shape)\n",
    "    \n",
    "    # Work with DaskArrays\n",
    "    ix, iy = tile_index\n",
    "    # First define the start and end x-slices to deal with periodic boundaries\n",
    "    p1end = p1.isel(yp=slice(iy*tile_size, (iy+1)*tile_size),\n",
    "                 xp=slice(0,1))\n",
    "    p2end = p2.isel(yp=slice(iy*tile_size, (iy+1)*tile_size),\n",
    "                 xp=slice(0,1))\n",
    "    T = T.isel(yt=slice(iy*tile_size, (iy+1)*tile_size),\n",
    "                 xt=slice(ix*tile_size, (ix+1)*tile_size))\n",
    "    p1 = p1.isel(yp=slice(iy*tile_size, (iy+1)*tile_size),\n",
    "                 xp=slice(ix*tile_size, (ix+1)*tile_size+1))\n",
    "    p2 = p2.isel(yp=slice(iy*tile_size, (iy+1)*tile_size),\n",
    "                 xp=slice(ix*tile_size, (ix+1)*tile_size+1))\n",
    "    hm = hm.isel(yt=slice(iy*tile_size, (iy+1)*tile_size),\n",
    "                 xt=slice(ix*tile_size, (ix+1)*tile_size))\n",
    "    \n",
    "    print('p1end shape = ',p1end.shape)\n",
    "    \n",
    "    print('T, p1, p2 shape after isel = ',T.shape,p1.shape,p2.shape)\n",
    "    \n",
    "    xt = T.xt.values\n",
    "    yt = T.yt.values\n",
    "    time = T.time.values\n",
    "    \n",
    "    T = T.data\n",
    "    p1 = p1.data\n",
    "    p2 = p2.data\n",
    "\n",
    "    # Concatenate end pieces on\n",
    "    if ix == 3:\n",
    "        p1 = da.concatenate([p1,p1end],axis=1)\n",
    "        print('p1 shape after concat = ',p1.shape)\n",
    "        p2 = da.concatenate([p2,p2end],axis=1)\n",
    "        print('p2 shape after concat = ',p2.shape)\n",
    "    \n",
    "    ny, nx, nt = T.shape\n",
    "    \n",
    "    p1T = 0.25 * (p1[1:,1:,:] + p1[:-1,:-1,:])\n",
    "    p2T = 0.25 * (p2[1:,1:,:] + p2[:-1,:-1,:])\n",
    "    \n",
    "    print('p1T shape = ',p1T.shape)\n",
    "    \n",
    "    n1 = (1/g[0]) * (p1T - p2T)\n",
    "    n1 = n1/hm\n",
    "    print('n1 shape = ',n1.shape)\n",
    " \n",
    "    # Take fft (after detrend and window)\n",
    "    def fft_block(var): # var is numpy array\n",
    "        var = detrend_func(var,'time')\n",
    "        var = window_func(var,'time')\n",
    "        varhat = (1.0/var.shape[2])*np.fft.rfft(var, axis=2)\n",
    "        return varhat\n",
    "    \n",
    "    # Resize for faster FFT\n",
    "    T = T.rechunk(chunks={0: tile_size/10, 1: tile_size/10, 2: nt})\n",
    "    n1 = n1.rechunk(chunks={0: tile_size/10, 1: tile_size/10, 2: nt})\n",
    "\n",
    "    # Execute fft function above\n",
    "    That = T.map_blocks(fft_block)\n",
    "    nhat = n1.map_blocks(fft_block)\n",
    "    \n",
    "    # Resize back to original tile size (100)\n",
    "    That = That.rechunk(chunks={0: tile_size, \n",
    "                                  1: tile_size, \n",
    "                                  2: 365})\n",
    "    nhat = nhat.rechunk(chunks={0: tile_size, \n",
    "                                  1: tile_size, \n",
    "                                  2: 365})\n",
    "    \n",
    "    # Multiply by constants\n",
    "    Tn1 = (That.conj()*nhat).real\n",
    "\n",
    "    # Sum over x- and y-axes\n",
    "    Tn1 = da.sum(Tn1, axis=(0,1))\n",
    "    \n",
    "    Tn1 = Tn1.compute()\n",
    "    \n",
    "    # wrap as DataArray\n",
    "    n = len(time)\n",
    "    d = time[1] - time[0]\n",
    "    freq = np.fft.rfftfreq(n, d)\n",
    "    \n",
    "    Tn1 = xr.DataArray(Tn1,\n",
    "                      dims=['freq'], \n",
    "                      coords={'freq': freq,\n",
    "                              'xt': xt.mean(),\n",
    "                              'yt': yt.mean()})\n",
    "    \n",
    "    return Tn1"
   ]
  },
  {
   "cell_type": "code",
   "execution_count": 174,
   "metadata": {},
   "outputs": [
    {
     "name": "stdout",
     "output_type": "stream",
     "text": [
      "Original shape =  (96, 384, 365) (97, 384, 365) (97, 384, 365)\n",
      "p1end shape =  (97, 1, 365)\n",
      "T, p1, p2 shape after isel =  (96, 100, 365) (97, 101, 365) (97, 101, 365)\n",
      "p1T shape =  (96, 100, 365)\n",
      "n1 shape =  (96, 100, 365)\n",
      "Aftermasking =  (96, 100, 365)\n"
     ]
    }
   ],
   "source": [
    "Tn1_tile30 = calc_Tn1(dsx1,dsx2,(0,0))"
   ]
  },
  {
   "cell_type": "code",
   "execution_count": 175,
   "metadata": {},
   "outputs": [
    {
     "data": {
      "text/plain": [
       "[<matplotlib.lines.Line2D at 0x14a645251630>]"
      ]
     },
     "execution_count": 175,
     "metadata": {},
     "output_type": "execute_result"
    },
    {
     "data": {
      "image/png": "[encoded data removed]",
      "text/plain": [
       "<Figure size 432x288 with 1 Axes>"
      ]
     },
     "metadata": {
      "needs_background": "light"
     },
     "output_type": "display_data"
    }
   ],
   "source": [
    "plt.semilogx(Tn1_tile30)"
   ]
  },
  {
   "cell_type": "markdown",
   "metadata": {},
   "source": [
    "# Calculate grad squared term\n",
    "\n",
    "$$\n",
    "\\widehat{T^o}^* \\widehat{\\nabla ^2 T^o}\n",
    "$$"
   ]
  },
  {
   "cell_type": "code",
   "execution_count": 27,
   "metadata": {},
   "outputs": [],
   "source": [
    "def calc_Tdel2T(dsx1, tile_index):\n",
    "    # Select variables\n",
    "    T = dsx1.ast\n",
    "    \n",
    "    # Work with DaskArrays\n",
    "    ix, iy = tile_index\n",
    "    # First define the start and end x-slices to deal with periodic boundaries\n",
    "    Tstart = T.isel(yt=slice(iy*tile_size, (iy+1)*tile_size),\n",
    "                 xt=slice(0,1))\n",
    "    Tend = T.isel(yt=slice(iy*tile_size, (iy+1)*tile_size),\n",
    "                 xt=slice(-1,None))\n",
    "    T = T.isel(yt=slice(max(iy*tile_size-1,0), (iy+1)*tile_size+1),\n",
    "               xt=slice(max(ix*tile_size-1,0), (ix+1)*tile_size+1))\n",
    "    \n",
    "    print('T shape after isel = ',T.shape)\n",
    "    \n",
    "    xt = T.xt.values\n",
    "    yt = T.yt.values\n",
    "    time = T.time.values\n",
    "    \n",
    "    T = T.data\n",
    "    \n",
    "    # Concatenate end pieces on\n",
    "    if ix == 0:\n",
    "        T = da.concatenate([Tend,T],axis=1)\n",
    "        print('T shape after concat = ',T.shape)\n",
    "    if ix == 3:\n",
    "        T = da.concatenate([T,Tstart],axis=1)\n",
    "        print('T shape after concat = ',T.shape)\n",
    "    \n",
    "    ny, nx, nt = T.shape\n",
    "    T = T.rechunk(chunks={0: ny, 1: nx})\n",
    "    print('Original shape = ',T.shape)\n",
    "    \n",
    "    # Take a second derivative\n",
    "    def Derivative(var, axis):\n",
    "        var_right = np.roll(var, 1, axis=axis)\n",
    "        var_left = np.roll(var, -1, axis=axis)\n",
    "        dvar = var_left + var_right - 2*var\n",
    "        return dvar\n",
    "    \n",
    "    Derivative_x = lambda p: Derivative(p, 1)\n",
    "    Derivative_y = lambda p: Derivative(p, 0)\n",
    "    \n",
    "    # Evaluate the derivative function\n",
    "    del2_x = (1./(dx**2)) * T.map_blocks(Derivative_x)\n",
    "    del2_y = (1./(dx**2)) * T.map_blocks(Derivative_y)\n",
    "    \n",
    "    print('del2x shape = ',del2_x.shape)\n",
    "    print('del2y shape = ',del2_y.shape)\n",
    "    print('dx = ',dx)\n",
    "    \n",
    "    del2 = del2_x + del2_y\n",
    "    print('del2.shape = ',del2.shape)\n",
    "    \n",
    "    # Take off added cells\n",
    "    T = T[1:-1,1:-1,:]\n",
    "    del2 = del2[1:-1,1:-1,:]\n",
    "    print('Aftermasking = ',T.shape,del2.shape)\n",
    " \n",
    "    # Take fft (after detrend and window)\n",
    "    def fft_block(var): # var is numpy array\n",
    "        var = detrend_func(var,'time')\n",
    "        var = window_func(var,'time')\n",
    "        varhat = (1.0/var.shape[2])*np.fft.rfft(var, axis=2)\n",
    "        return varhat\n",
    "    \n",
    "    # Resize for faster FFT\n",
    "    T = T.rechunk(chunks={0: tile_size/10, 1: tile_size/10, 2: nt})\n",
    "    del2 = del2.rechunk(chunks={0: tile_size/10, 1: tile_size/10, 2: nt})\n",
    "\n",
    "    # Execute fft function above\n",
    "    That = T.map_blocks(fft_block)\n",
    "    del2hat = del2.map_blocks(fft_block)\n",
    "    \n",
    "    # Resize back to original tile size (100)\n",
    "    That = That.rechunk(chunks={0: tile_size, \n",
    "                                  1: tile_size, \n",
    "                                  2: 365})\n",
    "    del2hat = del2hat.rechunk(chunks={0: tile_size, \n",
    "                                  1: tile_size, \n",
    "                                  2: 365})\n",
    "    \n",
    "    # Multiply by constants\n",
    "    Tdel2T = (That.conj()*del2hat).real\n",
    "\n",
    "    # Sum over x- and y-axes\n",
    "    Tdel2T = da.sum(Tdel2T, axis=(0,1))\n",
    "    \n",
    "    Tdel2T = Tdel2T.compute()\n",
    "    \n",
    "    # wrap as DataArray\n",
    "    n = len(time)\n",
    "    d = time[1] - time[0]\n",
    "    freq = np.fft.rfftfreq(n, d)\n",
    "    \n",
    "    Tdel2T = xr.DataArray(Tdel2T,\n",
    "                      dims=['freq'], \n",
    "                      coords={'freq': freq,\n",
    "                              'xt': xt.mean(),\n",
    "                              'yt': yt.mean()})\n",
    "    \n",
    "    return Tdel2T"
   ]
  },
  {
   "cell_type": "code",
   "execution_count": 28,
   "metadata": {
    "scrolled": true
   },
   "outputs": [
    {
     "name": "stdout",
     "output_type": "stream",
     "text": [
      "T shape after isel =  (96, 101, 365)\n",
      "T shape after concat =  (96, 102, 365)\n",
      "Original shape =  (96, 102, 365)\n",
      "del2x shape =  (96, 102, 365)\n",
      "del2y shape =  (96, 102, 365)\n",
      "dx =  80000.0\n",
      "del2.shape =  (96, 102, 365)\n",
      "Aftermasking =  (94, 100, 365) (94, 100, 365)\n"
     ]
    }
   ],
   "source": [
    "tile30 = calc_Tdel2T(dsx2,(0,0))"
   ]
  },
  {
   "cell_type": "code",
   "execution_count": 29,
   "metadata": {},
   "outputs": [
    {
     "data": {
      "text/plain": [
       "[<matplotlib.lines.Line2D at 0x1495b8b95860>]"
      ]
     },
     "execution_count": 29,
     "metadata": {},
     "output_type": "execute_result"
    },
    {
     "data": {
      "image/png": "[encoded data removed]",
      "text/plain": [
       "<Figure size 432x288 with 1 Axes>"
      ]
     },
     "metadata": {
      "needs_background": "light"
     },
     "output_type": "display_data"
    }
   ],
   "source": [
    "plt.semilogx(tile30)"
   ]
  },
  {
   "cell_type": "markdown",
   "metadata": {},
   "source": [
    "# Calculate grad fourth term\n",
    "\n",
    "$$\n",
    "\\widehat{T^o}^* \\widehat{\\nabla ^4 T^o}\n",
    "$$"
   ]
  },
  {
   "cell_type": "code",
   "execution_count": 30,
   "metadata": {},
   "outputs": [],
   "source": [
    "def calc_Tdel4T(dsx1, tile_index):\n",
    "    # Select variables\n",
    "    T = dsx1.ast\n",
    "    \n",
    "    # Work with DaskArrays\n",
    "    ix, iy = tile_index\n",
    "    # First define the start and end x-slices to deal with periodic boundaries\n",
    "    Tstart = T.isel(yt=slice(iy*tile_size, (iy+1)*tile_size),\n",
    "                 xt=slice(None,2))\n",
    "    Tend = T.isel(yt=slice(iy*tile_size, (iy+1)*tile_size),\n",
    "                 xt=slice(-2,None))\n",
    "    T = T.isel(yt=slice(max(iy*tile_size-2,0), (iy+1)*tile_size+2),\n",
    "               xt=slice(max(ix*tile_size-2,0), (ix+1)*tile_size+2))\n",
    "    \n",
    "    print('T shape after isel = ',T.shape)\n",
    "    \n",
    "    xt = T.xt.values\n",
    "    yt = T.yt.values\n",
    "    time = T.time.values\n",
    "    \n",
    "    T = T.data\n",
    "    \n",
    "    # Concatenate end pieces on\n",
    "    if ix == 0:\n",
    "        T = da.concatenate([Tend,T],axis=1)\n",
    "        print('T shape after concat = ',T.shape)\n",
    "    if ix == 3:\n",
    "        T = da.concatenate([T,Tstart],axis=1)\n",
    "        print('T shape after concat = ',T.shape)\n",
    "    \n",
    "    ny, nx, nt = T.shape\n",
    "    T = T.rechunk(chunks={0: ny, 1: nx})\n",
    "    \n",
    "    print('Original shape = ',T.shape)\n",
    "    \n",
    "    # Take a fourth derivative\n",
    "    def Derivative(var, axis):\n",
    "        var_right = np.roll(var, 1, axis=axis)\n",
    "        var_2right = np.roll(var, 2, axis=axis)\n",
    "        var_left = np.roll(var, -1, axis=axis)\n",
    "        var_2left = np.roll(var, -2, axis=axis)\n",
    "        dvar = var_2left - 4*var_left + 6*var - 4*var_right + var_2right\n",
    "        return dvar\n",
    "        \n",
    "    Derivative_x = lambda p: Derivative(p, 1)\n",
    "    Derivative_y = lambda p: Derivative(p, 0)\n",
    "    \n",
    "    # Evaluate the derivative function\n",
    "    del4_x = (1./(dx**4)) * T.map_blocks(Derivative_x)\n",
    "    del4_y = (1./(dx**4)) * T.map_blocks(Derivative_y)\n",
    "    \n",
    "    print('dpdx shape = ',del4_x.shape)\n",
    "    print('tauy_avg shape = ',del4_y.shape)\n",
    "    \n",
    "    del4 = del4_x + del4_y\n",
    "    \n",
    "    print('del4.shape = ',del4.shape)\n",
    "    \n",
    "    # Take off added cells\n",
    "    T = T[2:-2,2:-2,:]\n",
    "    del4 = del4[2:-2,2:-2,:]\n",
    "    print('Aftermasking = ',T.shape,del4.shape)\n",
    " \n",
    "    # Take fft (after detrend and window)\n",
    "    def fft_block(var): # var is numpy array\n",
    "        var = detrend_func(var,'time')\n",
    "        var = window_func(var,'time')\n",
    "        varhat = (1.0/var.shape[2])*np.fft.rfft(var, axis=2)\n",
    "        return varhat\n",
    "    \n",
    "    # Resize for faster FFT\n",
    "    T = T.rechunk(chunks={0: tile_size/10, 1: tile_size/10, 2: nt})\n",
    "    del4 = del4.rechunk(chunks={0: tile_size/10, 1: tile_size/10, 2: nt})\n",
    "\n",
    "    # Execute fft function above\n",
    "    That = T.map_blocks(fft_block)\n",
    "    del4hat = del4.map_blocks(fft_block)\n",
    "    \n",
    "    # Resize back to original tile size (100)\n",
    "    That = That.rechunk(chunks={0: tile_size, \n",
    "                                  1: tile_size, \n",
    "                                  2: 365})\n",
    "    del4hat = del4hat.rechunk(chunks={0: tile_size, \n",
    "                                  1: tile_size, \n",
    "                                  2: 365})\n",
    "    \n",
    "    # Multiply by constants\n",
    "    Tdel4T = (That.conj()*del4hat).real\n",
    "\n",
    "    # Sum over x- and y-axes\n",
    "    Tdel4T = da.sum(Tdel4T, axis=(0,1))\n",
    "    \n",
    "    Tdel4T = Tdel4T.compute()\n",
    "    \n",
    "    # wrap as DataArray\n",
    "    n = len(time)\n",
    "    d = time[1] - time[0]\n",
    "    freq = np.fft.rfftfreq(n, d)\n",
    "    \n",
    "    Tdel4T = xr.DataArray(Tdel4T,\n",
    "                      dims=['freq'], \n",
    "                      coords={'freq': freq,\n",
    "                              'xt': xt.mean(),\n",
    "                              'yt': yt.mean()})\n",
    "    \n",
    "    return Tdel4T"
   ]
  },
  {
   "cell_type": "code",
   "execution_count": 31,
   "metadata": {},
   "outputs": [
    {
     "name": "stdout",
     "output_type": "stream",
     "text": [
      "T shape after isel =  (96, 102, 365)\n",
      "T shape after concat =  (96, 104, 365)\n",
      "Original shape =  (96, 104, 365)\n",
      "dpdx shape =  (96, 104, 365)\n",
      "tauy_avg shape =  (96, 104, 365)\n",
      "del4.shape =  (96, 104, 365)\n",
      "Aftermasking =  (92, 100, 365) (92, 100, 365)\n"
     ]
    }
   ],
   "source": [
    "T43 = calc_Tdel4T(dsx2,(0,0))"
   ]
  },
  {
   "cell_type": "code",
   "execution_count": 32,
   "metadata": {},
   "outputs": [
    {
     "data": {
      "text/plain": [
       "[<matplotlib.lines.Line2D at 0x1495a17eef98>]"
      ]
     },
     "execution_count": 32,
     "metadata": {},
     "output_type": "execute_result"
    },
    {
     "data": {
      "image/png": "[encoded data removed]",
      "text/plain": [
       "<Figure size 432x288 with 1 Axes>"
      ]
     },
     "metadata": {
      "needs_background": "light"
     },
     "output_type": "display_data"
    }
   ],
   "source": [
    "plt.semilogx(T43)"
   ]
  },
  {
   "cell_type": "markdown",
   "metadata": {},
   "source": [
    "# Land points"
   ]
  },
  {
   "cell_type": "code",
   "execution_count": 7,
   "metadata": {},
   "outputs": [],
   "source": [
    "def calc_TFs(dsx1, tile_index):\n",
    "    # Select variables\n",
    "    T = dsx1.ast\n",
    "    hm = dsx1.hmixa\n",
    "    \n",
    "    # Work with DaskArrays\n",
    "    ix, iy = tile_index\n",
    "    T = T.isel(yt=slice(iy*tile_size, (iy+1)*tile_size),\n",
    "                 xt=slice(ix*tile_size, (ix+1)*tile_size))\n",
    "    hm = hm.isel(yt=slice(iy*tile_size, (iy+1)*tile_size),\n",
    "                 xt=slice(ix*tile_size, (ix+1)*tile_size))\n",
    "    \n",
    "    print('To shape after isel = ',T.shape)\n",
    "    \n",
    "    # Set ocean points to zero\n",
    "    #  - there are 38 atm points over ocean in ix=1\n",
    "    #  - here I slice the land portions into rectangles\n",
    "    if ix == 1:\n",
    "        print('ix==1')\n",
    "        \n",
    "        T_left = T.isel(xt=slice(None,62))\n",
    "        T_top = T.isel(yt=slice(-18,None),xt=slice(62,None))\n",
    "        T_bot = T.isel(yt=slice(None,18),xt=slice(62,None))\n",
    "        \n",
    "        T_zeros = T.isel(yt=slice(18,-18),xt=slice(62,None)) # grab only the ocean points\n",
    "        T_zeros = T_zeros.where(T_zeros>10000,0) # set all ocean points to zero: if T_zeros>10000 is false, fill with zeros\n",
    "        print(T_zeros.isel(xt=slice(4,5),yt=slice(3,4),time=slice(3,4)))\n",
    "        print('T_left,T_top,T_bot,T_zeros shapes = ',T_left.shape,T_top.shape,T_bot.shape,T_zeros.shape)\n",
    "        \n",
    "        # Concatenate right side of chunk\n",
    "        T_right = xr.concat([T_top,T_zeros,T_bot],'yt')\n",
    "        print(T_right.shape)\n",
    "        \n",
    "        # Concatenate entire chunk together\n",
    "        T = xr.concat([T_left,T_right],'xt')\n",
    "        print('T.shape = ',T.shape)\n",
    "        \n",
    "    # Set ocean points to zero\n",
    "    #  - there are 22 atm points over ocean in ix=2\n",
    "    elif ix == 2:\n",
    "        \n",
    "        T_right = T.isel(xt=slice(22,None))\n",
    "        T_top = T.isel(yt=slice(-18,None),xt=slice(None,22))\n",
    "        T_bot = T.isel(yt=slice(None,18),xt=slice(None,22))\n",
    "        \n",
    "        T_zeros = T.isel(yt=slice(18,-18),xt=slice(None,22))\n",
    "        T_zeros = T_zeros.where(T_zeros>10000,0)\n",
    "        print(T_zeros.isel(xt=slice(None,5),yt=slice(3,4),time=slice(3,4)))\n",
    "        print('T_right,T_top,T_bot,T_zeros shapes = ',T_right.shape,T_top.shape,T_bot.shape,T_zeros.shape)\n",
    "        \n",
    "        T_left = xr.concat([T_top,T_zeros,T_bot],'yt')\n",
    "        print(T_left.shape)\n",
    "        \n",
    "        T = xr.concat([T_left,T_right],'xt')\n",
    "        print('T.shape = ',T.shape)\n",
    "        \n",
    "        \n",
    "    hminv = 1/hm\n",
    "    \n",
    "    xt = T.xt.values\n",
    "    yt = T.yt.values\n",
    "    time = T.time.values\n",
    "    \n",
    "    \n",
    "    T = T.data\n",
    "    hminv = hminv.data\n",
    "    \n",
    "    ny, nx, nt = T.shape\n",
    "    \n",
    "    \n",
    "    print('Original shape = ',T.shape)\n",
    " \n",
    "    # Take fft (after detrend and window)\n",
    "    def fft_block(var): # var is numpy array\n",
    "        var = detrend_func(var,'time')\n",
    "        var = window_func(var,'time')\n",
    "        varhat = (1.0/var.shape[2])*np.fft.rfft(var, axis=2)\n",
    "        return varhat\n",
    "    \n",
    "    # Resize for faster FFT\n",
    "    T = T.rechunk(chunks={0: tile_size/10, 1: tile_size/10, 2: nt})\n",
    "    hminv = hminv.rechunk(chunks={0: tile_size/10, 1: tile_size/10, 2: nt})\n",
    "\n",
    "    # Execute fft function above\n",
    "    That = T.map_blocks(fft_block)\n",
    "    hminvhat = hminv.map_blocks(fft_block)\n",
    "    \n",
    "    # Resize back to original tile size (100)\n",
    "    That = That.rechunk(chunks={0: tile_size, \n",
    "                                  1: tile_size, \n",
    "                                  2: 365})\n",
    "    hminvhat = hminvhat.rechunk(chunks={0: tile_size, \n",
    "                                  1: tile_size, \n",
    "                                  2: 365})\n",
    "    \n",
    "    # Multiply by constants\n",
    "    TFs = (That.conj()*hminvhat).real\n",
    "\n",
    "    # Sum over x- and y-axes\n",
    "    TFs = da.sum(TFs, axis=(0,1))\n",
    "    \n",
    "    TFs = TFs.compute()\n",
    "    \n",
    "    # wrap as DataArray\n",
    "    n = len(time)\n",
    "    d = time[1] - time[0]\n",
    "    freq = np.fft.rfftfreq(n, d)\n",
    "    \n",
    "    TFs = xr.DataArray(TFs,\n",
    "                      dims=['freq'], \n",
    "                      coords={'freq': freq,\n",
    "                              'xt': xt.mean(),\n",
    "                              'yt': yt.mean()})\n",
    "    \n",
    "    return TFs"
   ]
  },
  {
   "cell_type": "code",
   "execution_count": 14,
   "metadata": {},
   "outputs": [
    {
     "name": "stdout",
     "output_type": "stream",
     "text": [
      "To shape after isel =  (96, 84, 365)\n",
      "Original shape =  (96, 84, 365)\n"
     ]
    }
   ],
   "source": [
    "TFs = calc_TFs(dsx2,(3,0))"
   ]
  },
  {
   "cell_type": "code",
   "execution_count": 15,
   "metadata": {},
   "outputs": [
    {
     "data": {
      "text/plain": [
       "[<matplotlib.lines.Line2D at 0x7f30e7736cf8>]"
      ]
     },
     "execution_count": 15,
     "metadata": {},
     "output_type": "execute_result"
    },
    {
     "data": {
      "image/png": "[encoded data removed]",
      "text/plain": [
       "<Figure size 432x288 with 1 Axes>"
      ]
     },
     "metadata": {
      "needs_background": "light"
     },
     "output_type": "display_data"
    }
   ],
   "source": [
    "plt.semilogx(TFs)"
   ]
  },
  {
   "cell_type": "markdown",
   "metadata": {},
   "source": [
    "## Run the above cells"
   ]
  },
  {
   "cell_type": "code",
   "execution_count": 6,
   "metadata": {
    "scrolled": true
   },
   "outputs": [
    {
     "name": "stdout",
     "output_type": "stream",
     "text": [
      "[(0, 0), (1, 0), (2, 0), (3, 0)]\n",
      "i =  0\n",
      "/g/data/v45/pm2987/Spunup_atpa/output039/atpa.nc /g/data/v45/pm2987/Spunup_atpa/output039/atpa.nc\n",
      "/g/data/v45/pm2987/Spunup_atast/output039/atast.nc /g/data/v45/pm2987/Spunup_atast/output039/atast.nc\n",
      "/g/data/v45/pm2987/Spunup_ocsst/output039/ocsst.nc /g/data/v45/pm2987/Spunup_ocsst/output039/ocsst.nc\n"
     ]
    },
    {
     "ename": "NameError",
     "evalue": "name 'calc_Tdel4T' is not defined",
     "output_type": "error",
     "traceback": [
      "\u001b[0;31m---------------------------------------------------------------------------\u001b[0m",
      "\u001b[0;31mNameError\u001b[0m                                 Traceback (most recent call last)",
      "\u001b[0;32m<ipython-input-6-080184d9451b>\u001b[0m in \u001b[0;36m<module>\u001b[0;34m\u001b[0m\n\u001b[1;32m     91\u001b[0m         \u001b[0;31m#    print(var_name)\u001b[0m\u001b[0;34m\u001b[0m\u001b[0;34m\u001b[0m\u001b[0;34m\u001b[0m\u001b[0m\n\u001b[1;32m     92\u001b[0m         \u001b[0;32mif\u001b[0m \u001b[0mvar_name\u001b[0m \u001b[0;34m==\u001b[0m \u001b[0;34m'Tdel2T'\u001b[0m\u001b[0;34m:\u001b[0m\u001b[0;34m\u001b[0m\u001b[0;34m\u001b[0m\u001b[0m\n\u001b[0;32m---> 93\u001b[0;31m             \u001b[0mTmap\u001b[0m \u001b[0;34m=\u001b[0m \u001b[0mcalc_Tdel4T\u001b[0m\u001b[0;34m(\u001b[0m\u001b[0mdsx2\u001b[0m\u001b[0;34m,\u001b[0m \u001b[0mtile_index\u001b[0m\u001b[0;34m)\u001b[0m\u001b[0;34m\u001b[0m\u001b[0;34m\u001b[0m\u001b[0m\n\u001b[0m\u001b[1;32m     94\u001b[0m             \u001b[0mprint\u001b[0m\u001b[0;34m(\u001b[0m\u001b[0mvar_name\u001b[0m\u001b[0;34m)\u001b[0m\u001b[0;34m\u001b[0m\u001b[0;34m\u001b[0m\u001b[0m\n\u001b[1;32m     95\u001b[0m         \u001b[0;31m#if i == 7:\u001b[0m\u001b[0;34m\u001b[0m\u001b[0;34m\u001b[0m\u001b[0;34m\u001b[0m\u001b[0m\n",
      "\u001b[0;31mNameError\u001b[0m: name 'calc_Tdel4T' is not defined"
     ]
    }
   ],
   "source": [
    "#%%time\n",
    "from itertools import product\n",
    "\n",
    "\n",
    "datadir1 = '/g/data/v45/pm2987/Spunup_atpa/'\n",
    "datadir2 = '/g/data/v45/pm2987/Spunup_atast/'\n",
    "datadir3 = '/g/data/v45/pm2987/Spunup_ocsst/'\n",
    "save_datapath = '/g/data/v45/pm2987/Transfer_maps/at/Tvar/'\n",
    "name = 'atm_Tvar_1yrmaps_16Jan2020'\n",
    "\n",
    "file_start = 5\n",
    "file_end = 6\n",
    "start_yr = 34\n",
    "\n",
    "xi = range((97+tile_size+1)//(tile_size)) \n",
    "yi = range((385+tile_size+1)//(tile_size))\n",
    "\n",
    "tile_indexes = list(product(*[yi, xi]))\n",
    "print(tile_indexes)\n",
    "\n",
    "var_name = 'Tdel2T'\n",
    "\n",
    "# All files\n",
    "ncfiles1 = sorted(glob(os.path.join(datadir1, 'output*/atpa.nc'))) # for all ocpo files\n",
    "ncfiles2 = sorted(glob(os.path.join(datadir2, 'output*/atast.nc'))) # for all ocsst files\n",
    "ncfiles3 = sorted(glob(os.path.join(datadir3, 'output*/ocsst.nc'))) # for Tma on ocean grid files\n",
    "\n",
    "for i in np.arange(0,1):\n",
    "    \n",
    "    Ta2_sum = 0\n",
    "    ToTa_sum = 0\n",
    "    vert_adv_sum = 0\n",
    "    Tum_sum = 0\n",
    "    Tvm_sum = 0\n",
    "    Fme_sum = 0\n",
    "    Fs_sum = 0\n",
    "    slh_sum = 0\n",
    "    Tdel2T_sum = 0\n",
    "    Tdel4T_sum = 0\n",
    "    Tana_sum = 0\n",
    "    Tn1_sum = 0\n",
    "    TFs_sum = 0\n",
    "    \n",
    "    print('i = ',i)\n",
    "    # Select desired files\n",
    "    ncfiles1_loop = ncfiles1[file_start:file_end] #ncfiles1[(i*50):(i*50+100)] # 0 starts with year 233\n",
    "    print(ncfiles1_loop[0],ncfiles1_loop[-1])\n",
    "    \n",
    "    chunks1 = {'xp': tile_size, 'yp': tile_size,'time':365, 'z':1, 'zi':1}\n",
    "    datasets1 = [xr.open_dataset(fn,chunks=chunks1) for fn in ncfiles1_loop]\n",
    "    dsx1 = xr.concat(datasets1, dim='time', coords='all')\n",
    "    \n",
    "    # Load ocsst\n",
    "    ncfiles2_loop = ncfiles2[file_start:file_end] #ncfiles2[(i*50):(i*50+100)] # this errors if only loading one file (eg [0:1])\n",
    "    print(ncfiles2_loop[0],ncfiles2_loop[-1])\n",
    "    \n",
    "    chunks2 = {'xt': tile_size, 'yt': tile_size,'time':365}\n",
    "    datasets2 = [xr.open_dataset(fn,chunks=chunks2) for fn in ncfiles2_loop]\n",
    "    dsx2 = xr.concat(datasets2, dim='time', coords='all')\n",
    "    \n",
    "    # Load atast\n",
    "    ncfiles3_loop = ncfiles3[file_start:file_end] #ncfiles2[(i*50):(i*50+100)] # this errors if only loading one file (eg [0:1])\n",
    "    print(ncfiles3_loop[0],ncfiles3_loop[-1])\n",
    "    \n",
    "    chunks3 = {'xt': tile_size, 'yt': tile_size,'time':365}\n",
    "    datasets3 = [xr.open_dataset(fn,chunks=chunks3) for fn in ncfiles3_loop]\n",
    "    dsx3 = xr.concat(datasets3, dim='time', coords='all')\n",
    "    \n",
    "    for tile_index in tile_indexes[:]:\n",
    "        #if var_name == 'To2':\n",
    "        #    Tmap = calc_To2(dsx2, tile_index)\n",
    "        #    print(var_name)\n",
    "        #if var_name == 'slh':\n",
    "        #    Tmap = calc_slh(dsx2,dsx4,tile_index)\n",
    "        #    \n",
    "        #    print(var_name)\n",
    "        #if var_name = 'ToTa':\n",
    "        #    Tmap = calc_ToTa(dsx2,dsx4, tile_index, 2)\n",
    "        #    \n",
    "        #    print(var_name)\n",
    "        #if i == 3:\n",
    "        #    Tmap = calc_Fme(dsx2, tile_index, 0)\n",
    "        #    var_name = 'Fme'\n",
    "        #    print(var_name)\n",
    "        #if i == 4:\n",
    "        #    Tmap = calc_vert_adv(dsx2, tile_index, 1)\n",
    "        #    var_name = 'vert_adv'\n",
    "        #    print(var_name)\n",
    "        #if var_name == 'H_adv':\n",
    "        #    Tmap = calc_H_adv(dsx1,dsx2, tile_index)\n",
    "        #    print(var_name)\n",
    "        if var_name == 'Tdel2T':\n",
    "            Tmap = calc_Tdel4T(dsx2, tile_index)\n",
    "            print(var_name)\n",
    "        #if i == 7:\n",
    "        #    Tmap = calc_Tdel4T(dsx2, tile_index)\n",
    "        #    var_name = 'Tdel4T'\n",
    "        #    print(var_name)\n",
    "        \n",
    "        if tile_index[0] == 0:\n",
    "            print('first if statement ',tile_index)\n",
    "            Tmap_temp = np.copy(Tmap)\n",
    "            print(Tmap_temp.shape)\n",
    "        else:\n",
    "            print('first else statement ',tile_index)\n",
    "            Tmap_temp = np.concatenate((Tmap_temp,Tmap),axis=1)\n",
    "            print(Tmap_temp.shape)\n",
    "        \n",
    "        Tmap_tot = np.copy(Tmap_temp)\n",
    "            \n",
    "        \n",
    "                \n",
    "    #for mapi in np.arange(1):\n",
    "    #    print(mapi)\n",
    "    #    Tgrp = Dataset(save_datapath+var_name+'_'+name+'_map'+str(mapi+1)+'_'+str(i+start_yr)+'_'+str(i+1+start_yr)+'.nc', 'w', format='NETCDF4') #3_CLASSIC')\n",
    "    #    Tgrp.createDimension('yp',Tmap_tot.shape[0])\n",
    "    #    Tgrp.createDimension('xp',Tmap_tot.shape[1])\n",
    "    #    Tgrp.createDimension('w',Tmap_tot.shape[2])\n",
    "    #    T = Tgrp.createVariable(var_name,'f4',('yp','xp','w'))\n",
    "    #    print('T.shape = ',T.shape)\n",
    "    #    print('Tmap_tot.shape = ',Tmap_tot.shape)\n",
    "    #    T[:,:,:] = Tmap_tot[:,:,:] #(mapi*200):((mapi+1)*200)]\n",
    "    #    Tgrp.close()\n",
    "        \n",
    "    #mapi = 18\n",
    "    #Tgrp = Dataset(save_datapath+var_name+'_map'+str(mapi+1)+'_'+yrs+'.nc', 'w', format='NETCDF4') #_CLASSIC')\n",
    "    #Tgrp.createDimension('yp',Tmap_tot.shape[0])\n",
    "    #Tgrp.createDimension('xp',Tmap_tot.shape[1])\n",
    "    #Tgrp.createDimension('w',51)\n",
    "    #T = Tgrp.createVariable(var_name,'f4',('yp','xp','w'))\n",
    "    #T[:,:,:] = Tmap_tot[:,:,mapi*200:] \n",
    "    #Tgrp.close()\n",
    "    "
   ]
  },
  {
   "cell_type": "markdown",
   "metadata": {},
   "source": [
    "# OVER OCEAN "
   ]
  },
  {
   "cell_type": "markdown",
   "metadata": {},
   "source": [
    "## All terms of the form:\n",
    "\n",
    "$$\n",
    "{}^a \\widehat{T}^* {}^o \\widehat{T}\n",
    "$$\n"
   ]
  },
  {
   "cell_type": "code",
   "execution_count": 6,
   "metadata": {},
   "outputs": [],
   "source": [
    "def calc_ToTa(dsx1, dsx2, tile_index):\n",
    "    # Select variables\n",
    "    To = dsx2.sst\n",
    "    Ta = dsx1.ast\n",
    "    hm = dsx1.hmixa\n",
    "    print('Ta shape = ',Ta.shape)\n",
    "    print('To shape = ',To.shape)\n",
    "    \n",
    "    # Work with DaskArrays\n",
    "    ix, iy = tile_index\n",
    "    print('ix and iy = ',ix,iy)\n",
    "    \n",
    "    Ta = Ta.isel(yt=slice(iy*tile_size, (iy+1)*tile_size),\n",
    "                 xt=slice(ix*tile_size, (ix+1)*tile_size))\n",
    "    hm = hm.isel(yt=slice(iy*tile_size, (iy+1)*tile_size),\n",
    "                 xt=slice(ix*tile_size, (ix+1)*tile_size))\n",
    "    \n",
    "    print('Ta.shape = ',Ta.shape)\n",
    "    \n",
    "    # Select the points only over the ocean\n",
    "    # For To: first 38*16 points are in first chunk (38 atm points * 16 atm points per oc point)\n",
    "    if ix == 1:\n",
    "        print('ix==1')\n",
    "        Ta = Ta.isel(yt=slice(18,-18),xt=slice(62,None))\n",
    "        To = To.isel(xt=slice(None, 38*16))\n",
    "        hm = hm.isel(yt=slice(18,-18),xt=slice(62,None))\n",
    "        print('Ta.shape = ',Ta.shape)\n",
    "        print('To.shape = ',To.shape)\n",
    "    \n",
    "    elif ix == 2:\n",
    "        Ta = Ta.isel(yt=slice(18,-18),xt=slice(None,22))\n",
    "        To = To.isel(xt=slice(38*16,None))\n",
    "        hm = hm.isel(yt=slice(18,-18),xt=slice(None,22))\n",
    "        print('Ta.shape = ',Ta.shape)\n",
    "        print('To.shape = ',To.shape)\n",
    "    \n",
    "    xt = Ta.xt.values\n",
    "    yt = Ta.yt.values\n",
    "    time = Ta.time.values\n",
    "    \n",
    "    To = To.data\n",
    "    Ta = Ta.data\n",
    "    \n",
    "    ny, nx, nt = Ta.shape\n",
    "\n",
    "    # Average To onto atm grid and divide by hm\n",
    "    if ix == 1:\n",
    "        print('ix==1')\n",
    "        To = np.reshape(To,(int(960/16),16,int((38*16)/16),16,nt))\n",
    "        print(To.shape)\n",
    "        To = (1/(16*16))*np.sum(To,axis=(1,3))\n",
    "        To = To/hm\n",
    "        print(To.shape)\n",
    "    elif ix == 2:\n",
    "        To = np.reshape(To,(int(960/16),16,int((960 - (38*16))/16),16,nt))\n",
    "        To = (1/(16*16))*np.sum(To,axis=(1,3))\n",
    "        To = To/hm\n",
    "        print(To.shape)\n",
    "    \n",
    "    # Take fft (after detrend and window)\n",
    "    def fft_block(var): # var is numpy array\n",
    "        var = detrend_func(var,'time')\n",
    "        var = window_func(var,'time')\n",
    "        varhat = (1.0/var.shape[2])*np.fft.rfft(var, axis=2)\n",
    "        return varhat\n",
    "    \n",
    "    # Resize for faster FFT\n",
    "    To = To.rechunk(chunks={0: tile_size/10, 1: tile_size/10, 2: nt})\n",
    "    Ta = Ta.rechunk(chunks={0: tile_size/10, 1: tile_size/10, 2: nt})\n",
    "\n",
    "    # Execute fft function above\n",
    "    Tohat = To.map_blocks(fft_block)\n",
    "    Tahat = Ta.map_blocks(fft_block)\n",
    "    \n",
    "    # Resize back to original tile size (100)\n",
    "    Tohat = Tohat.rechunk(chunks={0: tile_size, \n",
    "                                  1: tile_size, \n",
    "                                  2: 365})\n",
    "    Tahat = Tahat.rechunk(chunks={0: tile_size, \n",
    "                                  1: tile_size, \n",
    "                                  2: 365})\n",
    "    \n",
    "    print('Tohat and Tahat shapes = ',Tohat.shape,Tahat.shape)\n",
    "    \n",
    "    # Multiply by constants\n",
    "    ToTa = (Tahat.conj()*Tohat).real\n",
    "\n",
    "    # Sum over x- and y-axes\n",
    "    ToTa = da.sum(ToTa, axis=(0,1))\n",
    "    \n",
    "    ToTa = ToTa.compute()\n",
    "    \n",
    "    # wrap as DataArray\n",
    "    n = len(time)\n",
    "    d = time[1] - time[0]\n",
    "    freq = np.fft.rfftfreq(n, d)\n",
    "    \n",
    "    ToTa = xr.DataArray(ToTa,\n",
    "                      dims=['freq'], \n",
    "                      coords={'freq': freq,\n",
    "                              'xt': xt.mean(),\n",
    "                              'yt': yt.mean()})\n",
    "    \n",
    "    return ToTa"
   ]
  },
  {
   "cell_type": "code",
   "execution_count": 9,
   "metadata": {},
   "outputs": [
    {
     "name": "stdout",
     "output_type": "stream",
     "text": [
      "Ta shape =  (96, 384, 365)\n",
      "To shape =  (960, 960, 365)\n",
      "ix and iy =  1 0\n",
      "Ta.shape =  (96, 100, 365)\n",
      "ix==1\n",
      "Ta.shape =  (60, 38, 365)\n",
      "To.shape =  (960, 608, 365)\n",
      "ix==1\n",
      "(60, 16, 38, 16, 365)\n",
      "(60, 38, 365)\n",
      "Tohat and Tahat shapes =  (60, 38, 365) (60, 38, 365)\n"
     ]
    }
   ],
   "source": [
    "ToTa_tile = calc_ToTa(dsx2,dsx3,(1,0))"
   ]
  },
  {
   "cell_type": "code",
   "execution_count": 10,
   "metadata": {},
   "outputs": [
    {
     "data": {
      "text/plain": [
       "[<matplotlib.lines.Line2D at 0x1495b9a3cf28>]"
      ]
     },
     "execution_count": 10,
     "metadata": {},
     "output_type": "execute_result"
    },
    {
     "data": {
      "image/png": "[encoded data removed]",
      "text/plain": [
       "<Figure size 432x288 with 1 Axes>"
      ]
     },
     "metadata": {
      "needs_background": "light"
     },
     "output_type": "display_data"
    }
   ],
   "source": [
    "plt.semilogx(ToTa_tile)"
   ]
  },
  {
   "cell_type": "markdown",
   "metadata": {},
   "source": [
    "## All terms of the form:\n",
    "\n",
    "$$\n",
    "{}^a \\widehat{T}^* {}^a \\widehat{T}\n",
    "$$\n"
   ]
  },
  {
   "cell_type": "code",
   "execution_count": 18,
   "metadata": {},
   "outputs": [],
   "source": [
    "def calc_Ta2o(dsx1, tile_index):\n",
    "    # Select variables\n",
    "    T = dsx1.ast\n",
    "    hm = dsx1.hmixa\n",
    "    \n",
    "    # Work with DaskArrays\n",
    "    ix, iy = tile_index\n",
    "    T = T.isel(yt=slice(iy*tile_size, (iy+1)*tile_size),\n",
    "                 xt=slice(ix*tile_size, (ix+1)*tile_size))\n",
    "    hm = hm.isel(yt=slice(iy*tile_size, (iy+1)*tile_size),\n",
    "                 xt=slice(ix*tile_size, (ix+1)*tile_size))\n",
    "    \n",
    "    print('T shape after isel = ',T.shape)\n",
    "    \n",
    "    # Select the points only over the ocean\n",
    "    if ix == 1:\n",
    "        print('ix==1')\n",
    "        T = T.isel(yt=slice(18,-18),xt=slice(62,None))\n",
    "        hm = hm.isel(yt=slice(18,-18),xt=slice(62,None))\n",
    "        print('T.shape = ',T.shape)\n",
    "  \n",
    "    elif ix == 2:\n",
    "        T = T.isel(yt=slice(18,-18),xt=slice(None,22))\n",
    "        hm = hm.isel(yt=slice(18,-18),xt=slice(None,22))\n",
    "        print('T.shape = ',T.shape)\n",
    "    \n",
    "    xt = T.xt.values\n",
    "    yt = T.yt.values\n",
    "    time = T.time.values\n",
    "    \n",
    "    T = T.data\n",
    "    \n",
    "    ny, nx, nt = T.shape\n",
    "\n",
    "    # Divide by hm and save as new variable Thm\n",
    "    Thm = T/hm\n",
    " \n",
    "    # Take fft (after detrend and window)\n",
    "    def fft_block(var): # var is numpy array\n",
    "        var = detrend_func(var,'time')\n",
    "        var = window_func(var,'time')\n",
    "        varhat = (1.0/var.shape[2])*np.fft.rfft(var, axis=2)\n",
    "        return varhat\n",
    "    \n",
    "    # Resize for faster FFT\n",
    "    T = T.rechunk(chunks={0: tile_size/10, 1: tile_size/10, 2: nt})\n",
    "    Thm = Thm.rechunk(chunks={0: tile_size/10, 1: tile_size/10, 2: nt})\n",
    "\n",
    "    # Execute fft function above\n",
    "    That = T.map_blocks(fft_block)\n",
    "    Thmhat = Thm.map_blocks(fft_block)\n",
    "    \n",
    "    # Resize back to original tile size (100)\n",
    "    That = That.rechunk(chunks={0: tile_size, \n",
    "                                  1: tile_size, \n",
    "                                  2: 365})\n",
    "    Thmhat = Thmhat.rechunk(chunks={0: tile_size, \n",
    "                                  1: tile_size, \n",
    "                                  2: 365})\n",
    "    \n",
    "    # Multiply by constants\n",
    "    Ta2 = (That.conj()*Thmhat).real\n",
    "\n",
    "    # Sum over x- and y-axes\n",
    "    Ta2 = da.sum(Ta2, axis=(0,1))\n",
    "    \n",
    "    Ta2 = Ta2.compute()\n",
    "    \n",
    "    # wrap as DataArray\n",
    "    n = len(time)\n",
    "    d = time[1] - time[0]\n",
    "    freq = np.fft.rfftfreq(n, d)\n",
    "    \n",
    "    Ta2 = xr.DataArray(Ta2,\n",
    "                      dims=['freq'], \n",
    "                      coords={'freq': freq,\n",
    "                              'xt': xt.mean(),\n",
    "                              'yt': yt.mean()})\n",
    "    \n",
    "    return Ta2"
   ]
  },
  {
   "cell_type": "code",
   "execution_count": 19,
   "metadata": {},
   "outputs": [
    {
     "name": "stdout",
     "output_type": "stream",
     "text": [
      "T shape after isel =  (96, 100, 365)\n",
      "ix==1\n",
      "T.shape =  (60, 38, 365)\n",
      "Original shape =  (60, 38, 365)\n"
     ]
    }
   ],
   "source": [
    "Ta2o_tile = calc_Ta2o(dsx2,(1,0))"
   ]
  },
  {
   "cell_type": "code",
   "execution_count": 20,
   "metadata": {},
   "outputs": [
    {
     "data": {
      "text/plain": [
       "[<matplotlib.lines.Line2D at 0x1495b8fb52b0>]"
      ]
     },
     "execution_count": 20,
     "metadata": {},
     "output_type": "execute_result"
    },
    {
     "data": {
      "image/png": "[encoded data removed]",
      "text/plain": [
       "<Figure size 432x288 with 1 Axes>"
      ]
     },
     "metadata": {
      "needs_background": "light"
     },
     "output_type": "display_data"
    }
   ],
   "source": [
    "plt.semilogx(Ta2o_tile)"
   ]
  },
  {
   "cell_type": "markdown",
   "metadata": {},
   "source": [
    "# Calculate sensible and latent heat \n",
    "\n",
    "$$\n",
    "\\widehat{T^a}^* \\widehat{(T^o - T^a)}\n",
    "$$"
   ]
  },
  {
   "cell_type": "code",
   "execution_count": 21,
   "metadata": {},
   "outputs": [],
   "source": [
    "def calc_slh(dsx1, dsx2, tile_index):\n",
    "    # Select variables\n",
    "    To = dsx2.sst\n",
    "    Ta = dsx1.ast\n",
    "    hm = dsx1.hmixa\n",
    "    print('Ta shape = ',Ta.shape)\n",
    "    print('To shape = ',To.shape)\n",
    "    \n",
    "    # Work with DaskArrays\n",
    "    ix, iy = tile_index\n",
    "    print('ix and iy = ',ix,iy)\n",
    "    \n",
    "    Ta = Ta.isel(yt=slice(iy*tile_size, (iy+1)*tile_size),\n",
    "                 xt=slice(ix*tile_size, (ix+1)*tile_size))\n",
    "    hm = hm.isel(yt=slice(iy*tile_size, (iy+1)*tile_size),\n",
    "                 xt=slice(ix*tile_size, (ix+1)*tile_size))\n",
    "    \n",
    "    print('Ta.shape = ',Ta.shape)\n",
    "    \n",
    "    # Select the points only over the ocean\n",
    "    # For To: first 38*16 points are in first chunk (38 atm points * 16 atm points per oc point)\n",
    "    if ix == 1:\n",
    "        print('ix==1')\n",
    "        Ta = Ta.isel(yt=slice(18,-18),xt=slice(62,None))\n",
    "        hm = hm.isel(yt=slice(18,-18),xt=slice(62,None))\n",
    "        To = To.isel(xt=slice(None, 38*16))\n",
    "        print('Ta.shape = ',Ta.shape)\n",
    "        print('To.shape = ',To.shape)\n",
    "  \n",
    "    elif ix == 2:\n",
    "        Ta = Ta.isel(yt=slice(18,-18),xt=slice(None,22))\n",
    "        hm = hm.isel(yt=slice(18,-18),xt=slice(None,22))\n",
    "        To = To.isel(xt=slice(38*16,None))\n",
    "        print('Ta.shape = ',Ta.shape)\n",
    "        print('To.shape = ',To.shape)\n",
    "    \n",
    "    xt = Ta.xt.values\n",
    "    yt = Ta.yt.values\n",
    "    time = Ta.time.values\n",
    "    \n",
    "    To = To.data\n",
    "    Ta = Ta.data\n",
    "\n",
    "    ny, nx, nt = Ta.shape\n",
    "\n",
    "    # Average To onto atm grid\n",
    "    if ix == 1:\n",
    "        print('ix==1')\n",
    "        To = np.reshape(To,(int(960/16),16,int(608/16),16,nt))\n",
    "        print(To.shape)\n",
    "        To = (1/(16*16))*np.sum(To,axis=(1,3))\n",
    "        print(To.shape)\n",
    "    elif ix == 2:\n",
    "        To = np.reshape(To,(int(960/16),16,int((960 - 608)/16),16,nt))\n",
    "        To = (1/(16*16))*np.sum(To,axis=(1,3))\n",
    "        print(To.shape)\n",
    "    \n",
    "    # Divide by hm\n",
    "    To_minus_Ta = (To - Ta)/hm\n",
    "    print('To_minus_Ta.shape = ',To_minus_Ta.shape)\n",
    "    \n",
    "    # Take fft (after detrend and window)\n",
    "    def fft_block(var): # var is numpy array\n",
    "        var = detrend_func(var,'time')\n",
    "        var = window_func(var,'time')\n",
    "        varhat = (1.0/var.shape[2])*np.fft.rfft(var, axis=2)\n",
    "        return varhat\n",
    "    \n",
    "    # Resize for faster FFT\n",
    "    To_minus_Ta = To_minus_Ta.rechunk(chunks={0: tile_size/10, 1: tile_size/10, 2: nt})\n",
    "    Ta = Ta.rechunk(chunks={0: tile_size/10, 1: tile_size/10, 2: nt})\n",
    "\n",
    "    # Execute fft function above\n",
    "    To_minus_Ta_hat = To_minus_Ta.map_blocks(fft_block)\n",
    "    Tahat = Ta.map_blocks(fft_block)\n",
    "    \n",
    "    # Resize back to original tile size (100)\n",
    "    To_minus_Ta_hat = To_minus_Ta_hat.rechunk(chunks={0: tile_size, \n",
    "                                  1: tile_size, \n",
    "                                  2: 365})\n",
    "    Tahat = Tahat.rechunk(chunks={0: tile_size, \n",
    "                                  1: tile_size, \n",
    "                                  2: 365})\n",
    "    \n",
    "    print('Tohat and Tahat shapes = ',To_minus_Ta_hat.shape,Tahat.shape)\n",
    "    \n",
    "    # Multiply by constants\n",
    "    slh = (Tahat.conj()*To_minus_Ta_hat).real\n",
    "\n",
    "    # Sum over x- and y-axes\n",
    "    slh = da.sum(slh, axis=(0,1))\n",
    "    \n",
    "    slh = slh.compute()\n",
    "    \n",
    "    # wrap as DataArray\n",
    "    n = len(time)\n",
    "    d = time[1] - time[0]\n",
    "    freq = np.fft.rfftfreq(n, d)\n",
    "    \n",
    "    slh = xr.DataArray(slh,\n",
    "                      dims=['freq'], \n",
    "                      coords={'freq': freq,\n",
    "                              'xt': xt.mean(),\n",
    "                              'yt': yt.mean()})\n",
    "    \n",
    "    return slh"
   ]
  },
  {
   "cell_type": "code",
   "execution_count": 22,
   "metadata": {},
   "outputs": [
    {
     "name": "stdout",
     "output_type": "stream",
     "text": [
      "Ta shape =  (96, 384, 365)\n",
      "To shape =  (960, 960, 365)\n",
      "ix and iy =  1 0\n",
      "Ta.shape =  (96, 100, 365)\n",
      "ix==1\n",
      "Ta.shape =  (60, 38, 365)\n",
      "To.shape =  (960, 608, 365)\n",
      "ix==1\n",
      "(60, 16, 38, 16, 365)\n",
      "(60, 38, 365)\n",
      "To_minus_Ta.shape =  (60, 38, 365)\n",
      "Tohat and Tahat shapes =  (60, 38, 365) (60, 38, 365)\n"
     ]
    }
   ],
   "source": [
    "slh_tile = calc_slh(dsx2,dsx3,(1,0))"
   ]
  },
  {
   "cell_type": "code",
   "execution_count": 23,
   "metadata": {},
   "outputs": [
    {
     "data": {
      "text/plain": [
       "[<matplotlib.lines.Line2D at 0x1495b8bbdd68>]"
      ]
     },
     "execution_count": 23,
     "metadata": {},
     "output_type": "execute_result"
    },
    {
     "data": {
      "image/png": "[encoded data removed]",
      "text/plain": [
       "<Figure size 432x288 with 1 Axes>"
      ]
     },
     "metadata": {
      "needs_background": "light"
     },
     "output_type": "display_data"
    }
   ],
   "source": [
    "plt.semilogx(slh_tile)"
   ]
  },
  {
   "cell_type": "markdown",
   "metadata": {},
   "source": [
    "## Run the above over-ocean cells"
   ]
  },
  {
   "cell_type": "code",
   "execution_count": 8,
   "metadata": {
    "scrolled": true
   },
   "outputs": [
    {
     "name": "stdout",
     "output_type": "stream",
     "text": [
      "[(1, 0), (2, 0)]\n",
      "i =  0\n",
      "/g/data/v45/pm2987/Spunup_atpa/output034/atpa.nc /g/data/v45/pm2987/Spunup_atpa/output034/atpa.nc\n",
      "/g/data/v45/pm2987/Spunup_atast/output034/atast.nc /g/data/v45/pm2987/Spunup_atast/output034/atast.nc\n",
      "/g/data/v45/pm2987/Spunup_ocsst/output034/ocsst.nc /g/data/v45/pm2987/Spunup_ocsst/output034/ocsst.nc\n",
      "calculating Ta2o... (1, 0)\n"
     ]
    },
    {
     "ename": "NameError",
     "evalue": "name 'calc_Ta2o' is not defined",
     "output_type": "error",
     "traceback": [
      "\u001b[0;31m---------------------------------------------------------------------------\u001b[0m",
      "\u001b[0;31mNameError\u001b[0m                                 Traceback (most recent call last)",
      "\u001b[0;32m<timed exec>\u001b[0m in \u001b[0;36m<module>\u001b[0;34m\u001b[0m\n",
      "\u001b[0;31mNameError\u001b[0m: name 'calc_Ta2o' is not defined"
     ]
    }
   ],
   "source": [
    "%%time\n",
    "from itertools import product\n",
    "\n",
    "datadir1 = '/g/data/v45/pm2987/Spunup_atpa/'\n",
    "datadir2 = '/g/data/v45/pm2987/Spunup_atast/'\n",
    "datadir3 = '/g/data/v45/pm2987/Spunup_ocsst/'\n",
    "save_datapath = '/g/data/v45/pm2987/SpecTransfers_Tvar/'\n",
    "name = 'atm_Tvar_16Jan2020'\n",
    "\n",
    "file_start = 0\n",
    "file_end = 1\n",
    "start_yr = 34\n",
    "\n",
    "xi = range((97+tile_size+1)//(tile_size)) \n",
    "#yi = range((385+tile_size+1)//(tile_size))\n",
    "yi = range(1,3)\n",
    "\n",
    "tile_indexes = list(product(*[yi, xi]))\n",
    "print(tile_indexes)\n",
    "\n",
    "# All files\n",
    "ncfiles1 = sorted(glob(os.path.join(datadir1, 'output*/atpa.nc'))) # for all ocpo files\n",
    "ncfiles2 = sorted(glob(os.path.join(datadir2, 'output*/atast.nc'))) # for all ocsst files\n",
    "ncfiles3 = sorted(glob(os.path.join(datadir3, 'output*/ocsst.nc'))) # for Tma on ocean grid files\n",
    "\n",
    "for i in np.arange(0,1):\n",
    "    \n",
    "    Ta2_sum = 0\n",
    "    ToTa_sum = 0\n",
    "    vert_adv_sum = 0\n",
    "    Tum_sum = 0\n",
    "    Tvm_sum = 0\n",
    "    Fme_sum = 0\n",
    "    Fs_sum = 0\n",
    "    slh_sum = 0\n",
    "    Tdel2T_sum = 0\n",
    "    Tdel4T_sum = 0\n",
    "    Tana_sum = 0\n",
    "    Tn1_sum = 0\n",
    "    \n",
    "    print('i = ',i)\n",
    "    # Select desired files\n",
    "    ncfiles1_loop = ncfiles1[file_start:file_end] #ncfiles1[(i*50):(i*50+100)] # 0 starts with year 233\n",
    "    print(ncfiles1_loop[0],ncfiles1_loop[-1])\n",
    "    \n",
    "    chunks1 = {'xp': tile_size, 'yp': tile_size,'time':365, 'z':1, 'zi':1}\n",
    "    datasets1 = [xr.open_dataset(fn,chunks=chunks1) for fn in ncfiles1_loop]\n",
    "    dsx1 = xr.concat(datasets1, dim='time', coords='all')\n",
    "    \n",
    "    # Load ocsst\n",
    "    ncfiles2_loop = ncfiles2[file_start:file_end] #ncfiles2[(i*50):(i*50+100)] # this errors if only loading one file (eg [0:1])\n",
    "    print(ncfiles2_loop[0],ncfiles2_loop[-1])\n",
    "    \n",
    "    chunks2 = {'xt': tile_size, 'yt': tile_size,'time':365}\n",
    "    datasets2 = [xr.open_dataset(fn,chunks=chunks2) for fn in ncfiles2_loop]\n",
    "    dsx2 = xr.concat(datasets2, dim='time', coords='all')\n",
    "    \n",
    "    # Load atast\n",
    "    ncfiles3_loop = ncfiles3[file_start:file_end] #ncfiles2[(i*50):(i*50+100)] # this errors if only loading one file (eg [0:1])\n",
    "    print(ncfiles3_loop[0],ncfiles3_loop[-1])\n",
    "    \n",
    "    chunks3 = {'xt': tile_size, 'yt': tile_size,'time':365}\n",
    "    datasets3 = [xr.open_dataset(fn,chunks=chunks3) for fn in ncfiles3_loop]\n",
    "    dsx3 = xr.concat(datasets3, dim='time', coords='all')\n",
    "    \n",
    "    for tile_index in tile_indexes[:]:\n",
    "        print('calculating Ta2o...',tile_index)\n",
    "        \n",
    "        Ta2 = calc_Ta2o(dsx2,tile_index)\n",
    "        Ta2_sum += Ta2\n",
    "    #\n",
    "    #np.save(save_datapath+'Ta2o_'+name+'_'+str(i+start_yr)+'_'+str(i+start_yr),To2_sum) # 1yr test\n",
    "\n",
    "      \n",
    "    #for tile_index in tile_indexes[:]:\n",
    "    #    print('calculating ToTa...',tile_index)\n",
    "    #    \n",
    "    #    ToTa = calc_ToTa(dsx2,dsx3,tile_index)\n",
    "    #    ToTa_sum += ToTa\n",
    "    #    \n",
    "    #np.save(save_datapath+'ToTa_'+name+'_'+str(i+start_yr)+'_'+str(i+1+start_yr),ToTa_sum)\n",
    "    \n",
    "    #for tile_index in tile_indexes[:]:\n",
    "    #    print('calculating slh...',tile_index)\n",
    "    #    \n",
    "    #    slh = calc_slh(dsx2,dsx3,tile_index)\n",
    "    #    slh_sum += slh\n",
    "    #    \n",
    "    #np.save(save_datapath+'slh_'+name+'_'+str(i+start_yr)+'_'+str(i+1+start_yr),slh_sum)\n",
    "       \n"
   ]
  },
  {
   "cell_type": "code",
   "execution_count": null,
   "metadata": {},
   "outputs": [],
   "source": []
  },
  {
   "cell_type": "code",
   "execution_count": null,
   "metadata": {},
   "outputs": [],
   "source": []
  },
  {
   "cell_type": "code",
   "execution_count": null,
   "metadata": {},
   "outputs": [],
   "source": []
  }
 ],
 "metadata": {
  "anaconda-cloud": {},
  "kernelspec": {
   "display_name": "Python 3",
   "language": "python",
   "name": "python3"
  },
  "language_info": {
   "codemirror_mode": {
    "name": "ipython",
    "version": 3
   },
   "file_extension": ".py",
   "mimetype": "text/x-python",
   "name": "python",
   "nbconvert_exporter": "python",
   "pygments_lexer": "ipython3",
   "version": "3.6.7"
  }
 },
 "nbformat": 4,
 "nbformat_minor": 4
}
