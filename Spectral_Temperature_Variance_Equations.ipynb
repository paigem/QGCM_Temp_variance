{
 "cells": [
  {
   "cell_type": "markdown",
   "metadata": {},
   "source": [
    "# Derivation of Spectral Temperature Variance Equations\n",
    "\n",
    "## Ocean mixed layer temperature evolution equation"
   ]
  },
  {
   "cell_type": "markdown",
   "metadata": {},
   "source": [
    "$$\n",
    "T_{mt} + \n",
    "\\underbrace{\\left( u_m T_m \\right)_x + \\left( v_m T_m \\right)_y}_\\text{horizontal temperature advection} -\n",
    "\\overbrace{\\frac{w_{ek} T_m}{H_m}}^\\text{vertical temperature advection}\n",
    "= \n",
    "\\underbrace{\\frac{F_0}{\\rho C_p H_m}}_\\text{heat flux into and out of ocean mixed layer} +\n",
    "\\overbrace{\\frac{F_m^{e+}}{\\rho C_p H_m}}^\\text{entrainment heat flux} +\n",
    "\\underbrace{K_2 \\nabla _H^2 T_m - K_4 \\nabla _H^4 T_m}_\\text{diffusion}\n",
    "$$"
   ]
  },
  {
   "cell_type": "markdown",
   "metadata": {},
   "source": [
    "where \n",
    "\n",
    "$$\n",
    "u_m = -\\frac{1}{f_0} p_{1y} + \\frac{1}{f_0 H_m} \\tau ^y,\n",
    "$$\n",
    "\n",
    "$$\n",
    "v_m = \\frac{1}{f_0} p_{1x} - \\frac{1}{f_0 H_m} \\tau ^x,\n",
    "$$\n",
    "\n",
    "$$\n",
    "w_{ek} = \\frac{1}{f_0} \\left( \\tau _x^y - \\tau _y^x \\right).\n",
    "$$\n",
    "\n"
   ]
  },
  {
   "cell_type": "markdown",
   "metadata": {},
   "source": [
    "and $F_0$"
   ]
  },
  {
   "cell_type": "markdown",
   "metadata": {},
   "source": [
    "$$\n",
    "F_0 = -F_{\\lambda} - F_0^{\\uparrow} - F_m^{\\downarrow} - F_s\n",
    "$$"
   ]
  },
  {
   "cell_type": "markdown",
   "metadata": {},
   "source": [
    "where\n",
    "\n",
    "$$\n",
    "F_{\\lambda} = \\overline{F_{\\lambda}} + \\lambda (^o T_m - ^a T_m) \\rightarrow \\text{Sensible and latent heat} \n",
    "$$\n",
    "\n",
    "$$\n",
    "F_0^{\\uparrow} = \\overline{F_0^{\\uparrow}} + D_0^{\\uparrow} {^o} T_m \\rightarrow \\text{Oceanic radiative heat}\n",
    "$$\n",
    "\n",
    "$$\n",
    "F_m^{\\downarrow} = \\overline{F_m^{\\downarrow}} + D_m^{\\downarrow} {^a} T_m \\rightarrow \\text{Atmospheric radiative heat over ocean}\n",
    "$$\n",
    "\n",
    "$$\n",
    "F_s (y) = \\overline{F_s} + \\frac{F_s'}{2} \\sin \\left(\\frac{\\pi (y-y_0)}{^a Y} \\right)\\rightarrow \\text{Incoming shortwave solar radiation}\n",
    "$$"
   ]
  },
  {
   "cell_type": "markdown",
   "metadata": {},
   "source": [
    "## Tranform into frequency-space"
   ]
  },
  {
   "cell_type": "markdown",
   "metadata": {},
   "source": [
    "#### Assume solutions of the form:\n",
    "\n",
    "$$\n",
    "A_m = \\sum_{\\omega} \\widehat{A_m} (x,y,\\omega) e^{i \\omega t}\n",
    "$$\n",
    "\n",
    "#### Plug into the equation\n",
    "\n",
    "$$\n",
    "i \\omega \\widehat{T_{mt}}\n",
    "= - \\widehat{\\left( u_m T_m \\right)_x}\n",
    "- \\widehat{\\left( v_m T_m \\right)_y}\n",
    "+ \\frac{1}{H_m}\\widehat{w_{ek} T_m}\n",
    "+ \\widehat{\\frac{F_0}{\\rho C_p H_m}} \n",
    "+ \\widehat{\\frac{F_m^{e+}}{\\rho C_p H_m}}\n",
    "+ K_2 \\widehat{\\nabla _H^2 T_m} - K_4 \\widehat{\\nabla _H^4 T_m}\n",
    "\\quad\\quad \\textbf{(1)}\n",
    "$$"
   ]
  },
  {
   "cell_type": "markdown",
   "metadata": {},
   "source": [
    "Assume steady state: time derivative of T (term on left) goes to zero over long enough time\n",
    "\n",
    "#### Multiply equation (1) by $\\widehat{T_m}^*$\n",
    "\n",
    "$$\n",
    "0\n",
    "= - \\widehat{T_m}^* \\widehat{\\left( u_m T_m \\right)_x}\n",
    "- \\widehat{T_m}^* \\widehat{\\left( v_m T_m \\right)_y}\n",
    "+ \\widehat{T_m}^* \\frac{1}{H_m}\\widehat{w_{ek} T_m}\n",
    "+ \\widehat{T_m}^* \\widehat{\\frac{F_0}{\\rho C_p H_m}} \n",
    "+ \\widehat{T_m}^* \\widehat{\\frac{F_m^{e+}}{\\rho C_p H_m}} \\\\\n",
    "+ \\widehat{T_m}^* K_2 \\widehat{\\nabla _H^2 T_m} \n",
    "- \\widehat{T_m}^* K_4 \\widehat{\\nabla _H^4 T_m}\n",
    "\\quad\\quad \\textbf{(2)}\n",
    "$$"
   ]
  },
  {
   "cell_type": "markdown",
   "metadata": {},
   "source": [
    "#### Multiply equation (1)$^*$ by $\\widehat{T_m}$\n",
    "\n",
    "$$\n",
    "0 =\n",
    "- \\widehat{T_m} \\widehat{\\left( u_m T_m \\right)_x}\n",
    "- \\widehat{T_m} \\widehat{\\left( v_m T_m \\right)_y}\n",
    "+ \\widehat{T_m} \\frac{1}{H_m}\\widehat{w_{ek} T_m}\n",
    "+ \\widehat{T_m} \\widehat{\\frac{F_0}{\\rho C_p H_m}} \n",
    "+ \\widehat{T_m} \\widehat{\\frac{F_m^{e+}}{\\rho C_p H_m}} \\\\\n",
    "+ \\widehat{T_m} K_2 \\widehat{\\nabla _H^2 T_m} \n",
    "- \\widehat{T_m} K_4 \\widehat{\\nabla _H^4 T_m}\n",
    "\\quad\\quad \\textbf{(3)}\n",
    "$$\n",
    "\n",
    "\n",
    "#### Add equations (2) and (3) and divide by 2, and use property $\\frac{1}{2}(a^*b + b^*a) = \\mathrm{Re}[a^*b]$\n",
    "\n"
   ]
  },
  {
   "cell_type": "markdown",
   "metadata": {},
   "source": [
    "$$\n",
    "0 =\n",
    "- \\mathrm{Re} \\left[ \\widehat{T_m}^* \\widehat{\\left( u_m T_m \\right)_x} \\right]\n",
    "- \\mathrm{Re} \\left[ \\widehat{T_m}^* \\widehat{\\left( v_m T_m \\right)_y} \\right]\n",
    "+ \\mathrm{Re} \\left[ \\widehat{T_m}^* \\frac{1}{H_m}\\widehat{w_{ek} T_m} \\right]\n",
    "+ \\mathrm{Re} \\left[ \\widehat{T_m}^* \\widehat{\\frac{F_0}{\\rho C_p H_m}}  \\right]\n",
    "+ \\mathrm{Re} \\left[ \\widehat{T_m}^* \\widehat{\\frac{F_m^{e+}}{\\rho C_p H_m}} \\right] \\\\\n",
    "+ \\mathrm{Re} \\left[ \\widehat{T_m}^* K_2 \\widehat{\\nabla _H^2 T_m} \\right]\n",
    "- \\mathrm{Re} \\left[ \\widehat{T_m}^* K_4 \\widehat{\\nabla _H^4 T_m} \\right]\n",
    "$$"
   ]
  },
  {
   "cell_type": "markdown",
   "metadata": {},
   "source": [
    "#### Expand $F_0$ and integrate over area --> Temperature Variance Budget"
   ]
  },
  {
   "cell_type": "markdown",
   "metadata": {},
   "source": [
    "$$\n",
    "0 =\n",
    "\\int \\int \\left(\n",
    "- \\overbrace{ \\mathrm{Re} \\left[ \\widehat{T_m}^* \\widehat{\\left( u_m T_m \\right)_x} \\right] \n",
    "- \\mathrm{Re} \\left[ \\widehat{T_m}^* \\widehat{\\left( v_m T_m \\right)_y} \\right] }^\\text{Horizontal advection}\n",
    "+ \\overbrace{ \\mathrm{Re} \\left[ \\widehat{T_m}^* \\frac{1}{H_m}\\widehat{w_{ek} T_m} \\right]}^\\text{Vertical advection} \n",
    "+ \\overbrace{ \\mathrm{Re} \\left[ \\widehat{T_m}^* \\widehat{\\frac{F_m^{e+}}{\\rho C_p H_m}} \\right] }^\\text{Entrainment heat flux}\n",
    "+ \\overbrace{ \\mathrm{Re} \\left[ \\widehat{T_m}^* K_2 \\widehat{\\nabla _H^2 T_m} \\right] \n",
    "- \\mathrm{Re} \\left[ \\widehat{T_m}^* K_4 \\widehat{\\nabla _H^4 T_m} \\right]}^\\text{Diffusion} \\\\\n",
    "- \\underbrace{ \\mathrm{Re} \\left[ \\widehat{T_m}^* \\widehat{\\frac{F_{\\lambda}}{\\rho C_p H_m}} \\right] }_\\text{Sensible and latent heat}\n",
    "- \\underbrace{ \\mathrm{Re} \\left[ \\widehat{T_m}^* \\widehat{\\frac{F_0 ^{\\uparrow}}{\\rho C_p H_m}}  \\right] }_\\text{Oceanic radiation}\n",
    "- \\underbrace{ \\mathrm{Re} \\left[ \\widehat{T_m}^* \\widehat{\\frac{F_m ^{\\downarrow}}{\\rho C_p H_m}}  \\right] }_\\text{Atmospheric radiation over ocean}\n",
    "- \\underbrace{ \\mathrm{Re} \\left[ \\widehat{T_m}^* \\widehat{\\frac{F_s}{\\rho C_p H_m}}  \\right] }_\\text{Incoming solar radiation}\n",
    "\\right) dxdy\n",
    "$$"
   ]
  }
 ],
 "metadata": {
  "kernelspec": {
   "display_name": "Python 3",
   "language": "python",
   "name": "python3"
  },
  "language_info": {
   "codemirror_mode": {
    "name": "ipython",
    "version": 3
   },
   "file_extension": ".py",
   "mimetype": "text/x-python",
   "name": "python",
   "nbconvert_exporter": "python",
   "pygments_lexer": "ipython3",
   "version": "3.7.3"
  }
 },
 "nbformat": 4,
 "nbformat_minor": 2
}
